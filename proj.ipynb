{
 "cells": [
  {
   "cell_type": "markdown",
   "metadata": {
    "deletable": true,
    "editable": true
   },
   "source": [
    "# Complex Networks"
   ]
  },
  {
   "cell_type": "markdown",
   "metadata": {
    "deletable": true,
    "editable": true
   },
   "source": [
    "## Infectious Disease Spreading\n",
    "\n",
    "In this project we choosed a real-world dataset about disease spreading and analyze it.\n",
    "The dataset can be found in http://sing.stanford.edu/flu/"
   ]
  },
  {
   "cell_type": "markdown",
   "metadata": {
    "deletable": true,
    "editable": true
   },
   "source": [
    "### 1. Data Set Integration\n",
    "\n",
    "We start by loading the dataset and transform it into a graph with networkx (https://networkx.github.io/documentation/stable/index.html).\n",
    "\n",
    "In order to transform the dataset into a graph its important to understand what's inside it.\n",
    "\n",
    "The population is composed by an entire school, representing 655 students, 73 teachers, 55 staff, and 5 other persons.\n",
    "It contains 2,148,991 unique close proximity records (CPRs). A CPR represents one close (maximum of 3 m) proximity detection event between two motes. Thus, a contact exists between two motes if there is at least one interaction between them during the day, and the duration of the contact is the total duration of all interactions between these two motes. Because the beaconing frequency of a mote is 0.05 s−1, an interaction of length 3 (in CPRs) corresponds to an interaction of about 1 min (SI Text and references therein). The entire dataset consists of 762,868 interactions with a mean duration of 2.8 CPRs (∼1 min), or 118,291 contacts with mean duration of 18.1 CPRs (∼6 min).\n",
    "\n",
    "The aggregate network for the entire day can be represented by a weighted undirected graph, wherein nodes represent indi- viduals and edges represent contacts (edges are weighted by contact duration).\n",
    "\n",
    "### Nodes\n",
    "Getting the nodes is easy and very straight forward.\n"
   ]
  },
  {
   "cell_type": "code",
   "execution_count": 21,
   "metadata": {
    "collapsed": false,
    "deletable": true,
    "editable": true,
    "scrolled": false
   },
   "outputs": [
    {
     "name": "stdout",
     "output_type": "stream",
     "text": [
      "['.DS_Store', 'edgeLists', 'moteFiles', 'README.txt', 'roles.txt']\n"
     ]
    }
   ],
   "source": [
    "import os\n",
    "import networkx as nx\n",
    "\n",
    "dataset = \"flu-data\" # corpora\n",
    "\n",
    "print(os.listdir(dataset)) # files that contain the dataset info\n",
    "\n",
    "roles_file = open(dataset + \"/roles.txt\", 'r')\n",
    "roles = []\n",
    "\n",
    "for line in roles_file:\n",
    "    id = int(line.split()[0])\n",
    "    role = line.split()[1]\n",
    "    roles.append((id, role))\n",
    "\n",
    "roles = sorted(roles, key=lambda id: id)[12:] # the first 12 elements have the same ID?! \n",
    "population_size = len(roles) # eliminating the first 12 entries we get 789 roles shouldn't be 788 ?(655 + 73 + 55 + 5)\n",
    "\n",
    "\n",
    "# NODES in the network correspond to each subject ID.\n",
    "network = nx.Graph()\n",
    "for i in range(1, population_size+1):\n",
    "    network.add_node(i)\n"
   ]
  },
  {
   "cell_type": "markdown",
   "metadata": {
    "deletable": true,
    "editable": true
   },
   "source": [
    "---\n",
    "\n",
    "#### Edges:        \n",
    "\n",
    "The four folders correspond to four strategies of calculating interactions or contacts from a set of CPRs (recall that an interaction between two motes is defined as a continuous sequence of CPRs, and a contact is the sum of all interactions). There are two parameters that are of importance: minimumDuration and dropoff. The parameter minimumDuration defines the minimum duration (in CPRs) for an interaction or contact (depending on the strategy - see below) to be considered. The dropoff parameter allows you to assume that the dataset might be missing CPRs, and dropoff allows you to define the number of CPRs that should be considered as a maximum dropoff value. The examples below should make this clear.\n",
    "\n",
    "The for strategies are:\n",
    "    - addThenChop\n",
    "    - chopThenAdd\n",
    "    - chopThenCount\n",
    "    - justChop\n",
    "    \n",
    "Note: the deafult values of minimumDuration and dropoff are 1 and 0 respectively\n",
    "\n",
    "Having said this, let's now consider two motes, id1 and id2. Assume that in the data, we find they they had CPRs at the following time steps:\n",
    "\n",
    "1 \n",
    "3 \n",
    "4 \n",
    "5 \n",
    "8 \n",
    "9 \n",
    "10 \n",
    "12 \n",
    "23 \n",
    "24 \n",
    "25 \n",
    "26 \n",
    "28 \n",
    "103 \n",
    "112 \n",
    "113 \n",
    "114 \n",
    "266 \n",
    "267 \n",
    "268 \n",
    "269 \n",
    "270\n",
    "\n",
    "i.e. a total of 22 CPRs.\n",
    "\n",
    "Here's the what the four strategies return by default (minimumDuration = 1, dropoff = 0):\n",
    "\n",
    "addThenChop:\n",
    "1\t2\t22\n",
    "\n",
    "chopThenAdd:\n",
    "1\t2\t22\n",
    "\n",
    "chopThenCount:\n",
    "1\t2\t9\n",
    "\n",
    "justChop:\n",
    "\n",
    "1\t2\t1\n",
    "\n",
    "1\t2\t3\n",
    "\n",
    "1\t2\t3\n",
    "\n",
    "1\t2\t1\n",
    "\n",
    "1\t2\t4\n",
    "\n",
    "1\t2\t1\n",
    "\n",
    "1\t2\t1\n",
    "\n",
    "1\t2\t3\n",
    "\n",
    "1\t2\t5\n"
   ]
  },
  {
   "cell_type": "code",
   "execution_count": 22,
   "metadata": {
    "collapsed": false,
    "deletable": true,
    "editable": true,
    "scrolled": false
   },
   "outputs": [],
   "source": [
    "parameters_path = '/dropoff=0/minimumDuration=1/deltaT=1620/staticWeightedEdgeList_at=1350_min=540_max=2159.txt'\n",
    "\n",
    "addThenChop_path = dataset + '/edgeLists/durationCondition/' + 'addThenChop' + parameters_path\n",
    "chopThenAdd_path = dataset + '/edgeLists/durationCondition/' + 'chopThenAdd' + parameters_path\n",
    "chopThenCount_path = dataset + '/edgeLists/durationCondition/' + 'chopThenCount' + parameters_path\n",
    "justChop_path = dataset + '/edgeLists/durationCondition/' + 'justChop' + parameters_path\n",
    "\n",
    "def retrieveEdges(strategy_path, graph):\n",
    "    strategy_file = open(strategy_path , 'r')\n",
    "    #starting with addThenChop strategy to define the edges.\n",
    "    edges = []\n",
    "    for line in strategy_file:\n",
    "        id1 = int(line.split()[0])\n",
    "        id2 = int(line.split()[1])\n",
    "        weight = int(line.split()[2])\n",
    "        edges.append((id1, id2, weight))\n",
    "\n",
    "    graph.add_weighted_edges_from(edges) # add edges to the network with corresponding weights.\n",
    "\n",
    "retrieveEdges(addThenChop_path, network)\n",
    "links = len(network.edges())\n"
   ]
  },
  {
   "cell_type": "markdown",
   "metadata": {
    "collapsed": true
   },
   "source": [
    "### 2. Network characteristics Analisys:\n",
    "\n",
    "There is many metric to characterize a network.\n",
    "In this section we explore some of them.\n",
    "\n",
    "### Degree distribution:\n"
   ]
  },
  {
   "cell_type": "code",
   "execution_count": 83,
   "metadata": {
    "collapsed": false
   },
   "outputs": [
    {
     "data": {
      "image/png": "[encoded data removed]",
      "text/plain": [
       "<matplotlib.figure.Figure at 0x1232e3b70>"
      ]
     },
     "metadata": {},
     "output_type": "display_data"
    }
   ],
   "source": [
    "import numpy as np\n",
    "import matplotlib.pyplot as plt\n",
    "\n",
    "def plotDegreeHistogram(network):\n",
    "    degree = nx.degree(network)\n",
    "    plt.hist(list(degree.values()))\n",
    "    plt.xlabel(\"Degree\")\n",
    "    plt.ylabel(\"Nodes\")\n",
    "    plt.title(\"Figure 1 -Degree distribution\")\n",
    "    plt.show()\n",
    "\n",
    "plotDegreeHistogram(network=network)"
   ]
  },
  {
   "cell_type": "markdown",
   "metadata": {},
   "source": [
    "Looking to the figure 1 the degree distribution of the contact network shows that there is a big number of nodes with ≈ 280 to ≈ 420 neightbors and a low density of nodes with more links.\n",
    "\n",
    "Big Hubs are super rare and low degree nodes are also rare."
   ]
  },
  {
   "cell_type": "code",
   "execution_count": 113,
   "metadata": {
    "collapsed": false
   },
   "outputs": [
    {
     "data": {
      "image/png": "[encoded data removed]",
      "text/plain": [
       "<matplotlib.figure.Figure at 0x1235d55c0>"
      ]
     },
     "metadata": {},
     "output_type": "display_data"
    },
    {
     "data": {
      "image/png": "[encoded data removed]",
      "text/plain": [
       "<matplotlib.figure.Figure at 0x1235d5e80>"
      ]
     },
     "metadata": {},
     "output_type": "display_data"
    }
   ],
   "source": [
    "# cumulative degree distribution, the fraction of nodes with degree higher than k\n",
    "def plotCumulativeDist(network):\n",
    "    degree = nx.degree(network)\n",
    "    max_degree = max(degree.values())\n",
    "    \n",
    "    cum_Pk = [0]*(max_degree+50) # + 50 so we can see the limit going to zero.\n",
    "    k_values = [0]*(max_degree+50)\n",
    "    for k in range(0, max_degree+50):\n",
    "        k_values[k] = k\n",
    "        cum_Pk[k] = len([i for i in degree.values() if i >= k]) / len(network.nodes())\n",
    "    \n",
    "    plt.xlabel(\"Cumulative Degree Distribution\")\n",
    "    plt.ylabel(\"Degree\")\n",
    "    plt.title(\"Figure 2 - Cumulative Degree distribution\")\n",
    "    plt.plot(k_values, cum_Pk)\n",
    "    plt.show()\n",
    "    \n",
    "            \n",
    "plotCumulativeDist(network)\n",
    "\n",
    "def powerLawPlot(network):\n",
    "    degree = nx.degree(network)\n",
    "    max_degree = max(degree.values())\n",
    "    \n",
    "    Pk = [0]*(max_degree+10) # + 10 so we can see the limit going to zero.\n",
    "    k_values = [0]*(max_degree+10)\n",
    "    for k in range(0, max_degree+10):\n",
    "        k_values[k] = k\n",
    "        Pk[k] = len([i for i in degree.values() if i == k]) / len(network.nodes())\n",
    "    \n",
    "    plt.xlabel(\"Degree\")\n",
    "    plt.ylabel(\"Degree probability\")\n",
    "    plt.title(\"Figure 3 - Power Law\")\n",
    "    plt.plot(k_values, Pk)\n",
    "    plt.show()\n",
    "\n",
    "\"\"\"\n",
    "degree_sequence=sorted(nx.degree(network).values(),reverse=True) # degree sequence\n",
    "#print \"Degree sequence\", degree_sequence\n",
    "dmax=max(degree_sequence)\n",
    "plt.loglog(degree_sequence,'b-',marker='o')\n",
    "plt.title(\"Degree rank plot\")\n",
    "plt.ylabel(\"degree\")\n",
    "plt.xlabel(\"rank\")\n",
    "plt.show()\n",
    "\"\"\"\n",
    "\n",
    "powerLawPlot(network) #NOT WHATS IS EXPECTED....\n",
    "#plt.title(\"Figure 2 - Cumulative Degree distribution\")\n"
   ]
  },
  {
   "cell_type": "code",
   "execution_count": null,
   "metadata": {
    "collapsed": true
   },
   "outputs": [],
   "source": []
  },
  {
   "cell_type": "code",
   "execution_count": 19,
   "metadata": {
    "collapsed": true
   },
   "outputs": [],
   "source": [
    "\n",
    "#nx.draw_networkx(network)\n",
    "#plt.show()"
   ]
  },
  {
   "cell_type": "code",
   "execution_count": null,
   "metadata": {
    "collapsed": true
   },
   "outputs": [],
   "source": []
  }
 ],
 "metadata": {
  "celltoolbar": "Raw Cell Format",
  "kernelspec": {
   "display_name": "Python 3",
   "language": "python",
   "name": "python3"
  },
  "language_info": {
   "codemirror_mode": {
    "name": "ipython",
    "version": 3
   },
   "file_extension": ".py",
   "mimetype": "text/x-python",
   "name": "python",
   "nbconvert_exporter": "python",
   "pygments_lexer": "ipython3",
   "version": "3.6.0"
  }
 },
 "nbformat": 4,
 "nbformat_minor": 0
}
