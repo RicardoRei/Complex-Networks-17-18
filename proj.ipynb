{
 "cells": [
  {
   "cell_type": "markdown",
   "metadata": {},
   "source": [
    "# Complex Networks"
   ]
  },
  {
   "cell_type": "markdown",
   "metadata": {},
   "source": [
    "## Infectious Disease Spreading\n",
    "\n",
    "In this project we choosed a real-world dataset about disease spreading and analyze it.\n",
    "The dataset can be found in http://sing.stanford.edu/flu/"
   ]
  },
  {
   "cell_type": "markdown",
   "metadata": {},
   "source": [
    "# The Dataset\n",
    "\n",
    "### What is the dataset?\n",
    "\t\n",
    "    The dataset is high-resolution temporal contact network related to the spread of infectious diseases via droplet \n",
    "    transmission.\n",
    "    It represents the recording of single day of individual contacts in an American highschool.\n",
    "\n",
    "### What is the network?\n",
    "\t\n",
    "\tThe aggregate network for the entire day can be represented by a weighted undirected network.\n",
    "\n",
    "\t> Nodes (N) represent individuals wearing mote sensors.\n",
    "\t> Edges (E) represent contacts between the individuals. The edge weight represents the duration of the contact (in minutes)\n",
    "\n",
    "\tN = 788  (655 students, 73 teachers, 55 staff, and 5 other persons)\n",
    "\tE = 762,868 (total number of contacts, 94% coverage)\n",
    "\n",
    "\n",
    "### How was the data collected?\n",
    "\t\n",
    "    The data was collected using a wireless sensor network (TelosB motes) that detected when two people were within \n",
    "    range of one another.\n",
    "\tA contact was recorded if the distance between two individuals was less than or equal to 3 meters.\n",
    "    The duration of the contact was also recorded.\n",
    "\tThere was 94% coverage of the total school population's contacts."
   ]
  },
  {
   "cell_type": "markdown",
   "metadata": {},
   "source": [
    "### 1. Data Set Integration\n",
    "\n",
    "We start by loading the dataset and transform it into a graph with networkx (https://networkx.github.io/documentation/stable/index.html).\n",
    "\n",
    "In order to transform the dataset into a graph its important to understand what's inside it.\n",
    "\n",
    "The population is composed by an entire school, representing 655 students, 73 teachers, 55 staff, and 5 other persons.\n",
    "It contains 2,148,991 unique close proximity records (CPRs). A CPR represents one close (maximum of 3 m) proximity detection event between two motes. Thus, a contact exists between two motes if there is at least one interaction between them during the day, and the duration of the contact is the total duration of all interactions between these two motes. Because the beaconing frequency of a mote is 0.05 s−1, an interaction of length 3 (in CPRs) corresponds to an interaction of about 1 min (SI Text and references therein). The entire dataset consists of 762,868 interactions with a mean duration of 2.8 CPRs (∼1 min), or 118,291 contacts with mean duration of 18.1 CPRs (∼6 min).\n",
    "\n",
    "The aggregate network for the entire day can be represented by a weighted undirected graph, wherein nodes represent indi- viduals and edges represent contacts (edges are weighted by contact duration).\n",
    "\n",
    "### Inports and Folder Information"
   ]
  },
  {
   "cell_type": "code",
   "execution_count": 1,
   "metadata": {
    "collapsed": false,
    "scrolled": false
   },
   "outputs": [
    {
     "name": "stdout",
     "output_type": "stream",
     "text": [
      "['edgeLists', 'moteFiles', 'README.txt', 'roles.txt']\n"
     ]
    }
   ],
   "source": [
    "import os\n",
    "import networkx as nx\n",
    "\n",
    "dataset_root_path = \"flu-data\" # corpora\n",
    "parameters_path = '/dropoff=0/minimumDuration=1/deltaT=1620/staticWeightedEdgeList_at=1350_min=540_max=2159.txt'\n",
    "addThenChop_path = dataset_root_path + '/edgeLists/durationCondition/' + 'addThenChop' + parameters_path\n",
    "chopThenAdd_path = dataset_root_path + '/edgeLists/durationCondition/' + 'chopThenAdd' + parameters_path\n",
    "chopThenCount_path = dataset_root_path + '/edgeLists/durationCondition/' + 'chopThenCount' + parameters_path\n",
    "justChop_path = dataset_root_path + '/edgeLists/durationCondition/' + 'justChop' + parameters_path\n",
    "\n",
    "print(os.listdir(dataset_root_path)) # files that contain the dataset info"
   ]
  },
  {
   "cell_type": "code",
   "execution_count": 2,
   "metadata": {
    "collapsed": false,
    "scrolled": false
   },
   "outputs": [],
   "source": [
    "\"\"\"\n",
    "    Loads the nodes for the network\n",
    "    Returns the sorted list of nodes\n",
    "\"\"\"\n",
    "def load_nodes():\n",
    "    \n",
    "    roles_file = open(dataset_root_path + \"/roles.txt\", 'r')\n",
    "    roles = []\n",
    "    \n",
    "    for line in roles_file:\n",
    "        id = int(line.split()[0])\n",
    "        role = line.split()[1]\n",
    "        roles.append((id, role))\n",
    "\n",
    "    # TODO - Check why the hell the first 12 individuals have the same ID.\n",
    "    # For now we eliminate the first 12 entries and get 789 roles shouldn't be 788 ?(655 + 73 + 55 + 5)\n",
    "   \n",
    "    roles = sorted(roles, key=lambda id: id)[12:] \n",
    "    return roles\n",
    "\n",
    "\"\"\"\n",
    "    Loads the edges\n",
    "    Returns the list of edges\n",
    "\"\"\"\n",
    "def load_edges(contact_strategy_path):\n",
    "    \n",
    "    strategy_file = open(contact_strategy_path , 'r')\n",
    "    \n",
    "    edges = [] #starting with addThenChop strategy to define the edges.\n",
    "    \n",
    "    for line in strategy_file:\n",
    "        id1 = int(line.split()[0])\n",
    "        id2 = int(line.split()[1])\n",
    "        weight = int(line.split()[2])\n",
    "        edge = (id1, id2, weight)\n",
    "        \n",
    "        edges.append(edge)\n",
    "    \n",
    "    return edges\n",
    "\n",
    "\"\"\"\n",
    "    Returns the NetworkX network structure loaded with the nodes and edges\n",
    "    Parameter contact_strategy_path - \"contact strategy\" folder specified (Default = addThenChop)\n",
    "\"\"\"\n",
    "def load_network(contact_strategy_path = addThenChop_path):\n",
    "    \n",
    "    network = nx.Graph()\n",
    "    \n",
    "    nodes = load_nodes()\n",
    "    edges = load_edges(contact_strategy_path)\n",
    "    \n",
    "    N = len(nodes)\n",
    "    E = len(edges)\n",
    "    \n",
    "    for i in range(1, N + 1):\n",
    "        network.add_node(i)\n",
    "        \n",
    "    network.add_weighted_edges_from(edges)\n",
    "    \n",
    "    return network\n",
    "\n",
    "network = load_network()"
   ]
  },
  {
   "cell_type": "markdown",
   "metadata": {
    "collapsed": true
   },
   "source": [
    "### 2. Network characteristics Analisys:\n",
    "\n",
    "There is many metric to characterize a network.\n",
    "In this section we explore some of them.\n",
    "\n",
    "### Degree distribution:\n"
   ]
  },
  {
   "cell_type": "code",
   "execution_count": 37,
   "metadata": {
    "collapsed": false
   },
   "outputs": [
    {
     "data": {
      "image/png": "[encoded data removed]",
      "text/plain": [
       "<matplotlib.figure.Figure at 0x111611f60>"
      ]
     },
     "metadata": {},
     "output_type": "display_data"
    },
    {
     "ename": "KeyboardInterrupt",
     "evalue": "",
     "output_type": "error",
     "traceback": [
      "\u001b[0;31m---------------------------------------------------------------------------\u001b[0m",
      "\u001b[0;31mKeyboardInterrupt\u001b[0m                         Traceback (most recent call last)",
      "\u001b[0;32m<ipython-input-37-cfb773f7d2bd>\u001b[0m in \u001b[0;36m<module>\u001b[0;34m()\u001b[0m\n\u001b[1;32m    106\u001b[0m \u001b[0;34m\u001b[0m\u001b[0m\n\u001b[1;32m    107\u001b[0m \u001b[0mplotWeightedDegreeHistogram\u001b[0m\u001b[0;34m(\u001b[0m\u001b[0mnetwork\u001b[0m\u001b[0;34m=\u001b[0m\u001b[0mnetwork\u001b[0m\u001b[0;34m)\u001b[0m \u001b[0;31m# figure 1\u001b[0m\u001b[0;34m\u001b[0m\u001b[0m\n\u001b[0;32m--> 108\u001b[0;31m \u001b[0mplotWeightedDegreeCumulativeDist\u001b[0m\u001b[0;34m(\u001b[0m\u001b[0mnetwork\u001b[0m\u001b[0;34m=\u001b[0m\u001b[0mnetwork\u001b[0m\u001b[0;34m)\u001b[0m \u001b[0;31m# figure 2\u001b[0m\u001b[0;34m\u001b[0m\u001b[0m\n\u001b[0m\u001b[1;32m    109\u001b[0m \u001b[0;31m#plotDegreeProbability(network=network) #NOT WHATS IS EXPECTED.... Power Law? # figure 3\u001b[0m\u001b[0;34m\u001b[0m\u001b[0;34m\u001b[0m\u001b[0m\n\u001b[1;32m    110\u001b[0m \u001b[0;31m#plotSizeOfContactsCumDist(network=network) # figure 4\u001b[0m\u001b[0;34m\u001b[0m\u001b[0;34m\u001b[0m\u001b[0m\n",
      "\u001b[0;32m<ipython-input-37-cfb773f7d2bd>\u001b[0m in \u001b[0;36mplotWeightedDegreeCumulativeDist\u001b[0;34m(network)\u001b[0m\n\u001b[1;32m     29\u001b[0m     \u001b[0;32mfor\u001b[0m \u001b[0mk\u001b[0m \u001b[0;32min\u001b[0m \u001b[0mrange\u001b[0m\u001b[0;34m(\u001b[0m\u001b[0;36m0\u001b[0m\u001b[0;34m,\u001b[0m \u001b[0mmax_degree\u001b[0m\u001b[0;34m+\u001b[0m\u001b[0;36m50\u001b[0m\u001b[0;34m)\u001b[0m\u001b[0;34m:\u001b[0m\u001b[0;34m\u001b[0m\u001b[0m\n\u001b[1;32m     30\u001b[0m         \u001b[0mk_values\u001b[0m\u001b[0;34m[\u001b[0m\u001b[0mk\u001b[0m\u001b[0;34m]\u001b[0m \u001b[0;34m=\u001b[0m \u001b[0mk\u001b[0m\u001b[0;34m\u001b[0m\u001b[0m\n\u001b[0;32m---> 31\u001b[0;31m         \u001b[0mcum_Pk\u001b[0m\u001b[0;34m[\u001b[0m\u001b[0mk\u001b[0m\u001b[0;34m]\u001b[0m \u001b[0;34m=\u001b[0m \u001b[0mlen\u001b[0m\u001b[0;34m(\u001b[0m\u001b[0;34m[\u001b[0m\u001b[0mi\u001b[0m \u001b[0;32mfor\u001b[0m \u001b[0mi\u001b[0m \u001b[0;32min\u001b[0m \u001b[0mlist\u001b[0m\u001b[0;34m(\u001b[0m\u001b[0mmap\u001b[0m\u001b[0;34m(\u001b[0m\u001b[0;32mlambda\u001b[0m \u001b[0mx\u001b[0m\u001b[0;34m:\u001b[0m \u001b[0mx\u001b[0m\u001b[0;34m[\u001b[0m\u001b[0;36m1\u001b[0m\u001b[0;34m]\u001b[0m\u001b[0;34m,\u001b[0m \u001b[0mdegree\u001b[0m\u001b[0;34m)\u001b[0m\u001b[0;34m)\u001b[0m \u001b[0;32mif\u001b[0m \u001b[0mi\u001b[0m \u001b[0;34m>=\u001b[0m \u001b[0mk\u001b[0m\u001b[0;34m]\u001b[0m\u001b[0;34m)\u001b[0m \u001b[0;34m/\u001b[0m \u001b[0mlen\u001b[0m\u001b[0;34m(\u001b[0m\u001b[0mnetwork\u001b[0m\u001b[0;34m.\u001b[0m\u001b[0mnodes\u001b[0m\u001b[0;34m(\u001b[0m\u001b[0;34m)\u001b[0m\u001b[0;34m)\u001b[0m\u001b[0;34m\u001b[0m\u001b[0m\n\u001b[0m\u001b[1;32m     32\u001b[0m \u001b[0;34m\u001b[0m\u001b[0m\n\u001b[1;32m     33\u001b[0m     \u001b[0mplt\u001b[0m\u001b[0;34m.\u001b[0m\u001b[0mxlabel\u001b[0m\u001b[0;34m(\u001b[0m\u001b[0;34m\"Cumulative Degree Distribution\"\u001b[0m\u001b[0;34m)\u001b[0m\u001b[0;34m\u001b[0m\u001b[0m\n",
      "\u001b[0;32m/Users/ricardorei/anaconda/lib/python3.6/site-packages/networkx/classes/reportviews.py\u001b[0m in \u001b[0;36m__iter__\u001b[0;34m(self)\u001b[0m\n\u001b[1;32m    447\u001b[0m             \u001b[0;32mfor\u001b[0m \u001b[0mn\u001b[0m \u001b[0;32min\u001b[0m \u001b[0mself\u001b[0m\u001b[0;34m.\u001b[0m\u001b[0m_nodes\u001b[0m\u001b[0;34m:\u001b[0m\u001b[0;34m\u001b[0m\u001b[0m\n\u001b[1;32m    448\u001b[0m                 \u001b[0mnbrs\u001b[0m \u001b[0;34m=\u001b[0m \u001b[0mself\u001b[0m\u001b[0;34m.\u001b[0m\u001b[0m_succ\u001b[0m\u001b[0;34m[\u001b[0m\u001b[0mn\u001b[0m\u001b[0;34m]\u001b[0m\u001b[0;34m\u001b[0m\u001b[0m\n\u001b[0;32m--> 449\u001b[0;31m                 \u001b[0mdeg\u001b[0m \u001b[0;34m=\u001b[0m \u001b[0msum\u001b[0m\u001b[0;34m(\u001b[0m\u001b[0mdd\u001b[0m\u001b[0;34m.\u001b[0m\u001b[0mget\u001b[0m\u001b[0;34m(\u001b[0m\u001b[0mweight\u001b[0m\u001b[0;34m,\u001b[0m \u001b[0;36m1\u001b[0m\u001b[0;34m)\u001b[0m \u001b[0;32mfor\u001b[0m \u001b[0mdd\u001b[0m \u001b[0;32min\u001b[0m \u001b[0mnbrs\u001b[0m\u001b[0;34m.\u001b[0m\u001b[0mvalues\u001b[0m\u001b[0;34m(\u001b[0m\u001b[0;34m)\u001b[0m\u001b[0;34m)\u001b[0m \u001b[0;34m+\u001b[0m\u001b[0;31m \u001b[0m\u001b[0;31m\\\u001b[0m\u001b[0;34m\u001b[0m\u001b[0m\n\u001b[0m\u001b[1;32m    450\u001b[0m                     \u001b[0;34m(\u001b[0m\u001b[0mn\u001b[0m \u001b[0;32min\u001b[0m \u001b[0mnbrs\u001b[0m \u001b[0;32mand\u001b[0m \u001b[0mnbrs\u001b[0m\u001b[0;34m[\u001b[0m\u001b[0mn\u001b[0m\u001b[0;34m]\u001b[0m\u001b[0;34m.\u001b[0m\u001b[0mget\u001b[0m\u001b[0;34m(\u001b[0m\u001b[0mweight\u001b[0m\u001b[0;34m,\u001b[0m \u001b[0;36m1\u001b[0m\u001b[0;34m)\u001b[0m\u001b[0;34m)\u001b[0m\u001b[0;34m\u001b[0m\u001b[0m\n\u001b[1;32m    451\u001b[0m                 \u001b[0;32myield\u001b[0m \u001b[0;34m(\u001b[0m\u001b[0mn\u001b[0m\u001b[0;34m,\u001b[0m \u001b[0mdeg\u001b[0m\u001b[0;34m)\u001b[0m\u001b[0;34m\u001b[0m\u001b[0m\n",
      "\u001b[0;32m/Users/ricardorei/anaconda/lib/python3.6/site-packages/networkx/classes/reportviews.py\u001b[0m in \u001b[0;36m<genexpr>\u001b[0;34m(.0)\u001b[0m\n\u001b[1;32m    447\u001b[0m             \u001b[0;32mfor\u001b[0m \u001b[0mn\u001b[0m \u001b[0;32min\u001b[0m \u001b[0mself\u001b[0m\u001b[0;34m.\u001b[0m\u001b[0m_nodes\u001b[0m\u001b[0;34m:\u001b[0m\u001b[0;34m\u001b[0m\u001b[0m\n\u001b[1;32m    448\u001b[0m                 \u001b[0mnbrs\u001b[0m \u001b[0;34m=\u001b[0m \u001b[0mself\u001b[0m\u001b[0;34m.\u001b[0m\u001b[0m_succ\u001b[0m\u001b[0;34m[\u001b[0m\u001b[0mn\u001b[0m\u001b[0;34m]\u001b[0m\u001b[0;34m\u001b[0m\u001b[0m\n\u001b[0;32m--> 449\u001b[0;31m                 \u001b[0mdeg\u001b[0m \u001b[0;34m=\u001b[0m \u001b[0msum\u001b[0m\u001b[0;34m(\u001b[0m\u001b[0mdd\u001b[0m\u001b[0;34m.\u001b[0m\u001b[0mget\u001b[0m\u001b[0;34m(\u001b[0m\u001b[0mweight\u001b[0m\u001b[0;34m,\u001b[0m \u001b[0;36m1\u001b[0m\u001b[0;34m)\u001b[0m \u001b[0;32mfor\u001b[0m \u001b[0mdd\u001b[0m \u001b[0;32min\u001b[0m \u001b[0mnbrs\u001b[0m\u001b[0;34m.\u001b[0m\u001b[0mvalues\u001b[0m\u001b[0;34m(\u001b[0m\u001b[0;34m)\u001b[0m\u001b[0;34m)\u001b[0m \u001b[0;34m+\u001b[0m\u001b[0;31m \u001b[0m\u001b[0;31m\\\u001b[0m\u001b[0;34m\u001b[0m\u001b[0m\n\u001b[0m\u001b[1;32m    450\u001b[0m                     \u001b[0;34m(\u001b[0m\u001b[0mn\u001b[0m \u001b[0;32min\u001b[0m \u001b[0mnbrs\u001b[0m \u001b[0;32mand\u001b[0m \u001b[0mnbrs\u001b[0m\u001b[0;34m[\u001b[0m\u001b[0mn\u001b[0m\u001b[0;34m]\u001b[0m\u001b[0;34m.\u001b[0m\u001b[0mget\u001b[0m\u001b[0;34m(\u001b[0m\u001b[0mweight\u001b[0m\u001b[0;34m,\u001b[0m \u001b[0;36m1\u001b[0m\u001b[0;34m)\u001b[0m\u001b[0;34m)\u001b[0m\u001b[0;34m\u001b[0m\u001b[0m\n\u001b[1;32m    451\u001b[0m                 \u001b[0;32myield\u001b[0m \u001b[0;34m(\u001b[0m\u001b[0mn\u001b[0m\u001b[0;34m,\u001b[0m \u001b[0mdeg\u001b[0m\u001b[0;34m)\u001b[0m\u001b[0;34m\u001b[0m\u001b[0m\n",
      "\u001b[0;31mKeyboardInterrupt\u001b[0m: "
     ]
    }
   ],
   "source": [
    "import numpy as np\n",
    "import matplotlib.pyplot as plt\n",
    "\n",
    "\n",
    "\"\"\"\n",
    "    This Function receives the network graph and plots the degree histogram. \n",
    "\"\"\"\n",
    "def plotWeightedDegreeHistogram(network):\n",
    "    degree = nx.degree(network, weight='weight')\n",
    "    values = map(lambda x: x[1], degree)\n",
    "    plt.hist(list(values))\n",
    "    plt.xlabel(\"Weighted Degree\")\n",
    "    plt.ylabel(\"Nodes\")\n",
    "    plt.title(\"Figure 1 -Degree distribution\")\n",
    "    plt.show()\n",
    "\n",
    "\n",
    "\"\"\"\n",
    "    This Function receives the network graph and plots the cumulative degree distribution.\n",
    "    The Cumulative degree distribution cum_Pk represents the fraction of nodes with degree higher than k.\n",
    "\"\"\"\n",
    "def plotWeightedDegreeCumulativeDist(network):\n",
    "    degree = nx.degree(network, weight='weight')\n",
    "    values = map(lambda x: x[1], degree)\n",
    "    max_degree = max(values)\n",
    "    \n",
    "    cum_Pk = [0]*(max_degree+50) # + 50 so we can see the limit going to zero.\n",
    "    k_values = [0]*(max_degree+50)\n",
    "    for k in range(0, max_degree+50):\n",
    "        k_values[k] = k\n",
    "        cum_Pk[k] = len([i for i in list(map(lambda x: x[1], degree)) if i >= k]) / len(network.nodes())\n",
    "    \n",
    "    plt.xlabel(\"Cumulative Degree Distribution\")\n",
    "    plt.ylabel(\"Degree\")\n",
    "    plt.title(\"Figure 2 - Cumulative Degree distribution\")\n",
    "    plt.plot(k_values, cum_Pk)\n",
    "    plt.show()\n",
    "    \n",
    "\n",
    "\"\"\"\n",
    "    This Function receives the network graph and plots the degree probability Pk.\n",
    "    The degree probability Pk represents the probability of a node has a degree  equal to k.\n",
    "\"\"\"\n",
    "def plotDegreeProbability(network):\n",
    "    degree = nx.degree(network)\n",
    "    values = map(lambda x: x[1], degree)\n",
    "    max_degree = max(values)\n",
    "    \n",
    "    Pk = [0]*(max_degree+10) # + 10 so we can see the limit going to zero.\n",
    "    k_values = [0]*(max_degree+10)\n",
    "    for k in range(0, max_degree+10):\n",
    "        k_values[k] = k\n",
    "        Pk[k] = len([i for i in list(map(lambda x: x[1], degree)) if i == k]) / len(network.nodes())\n",
    "    \n",
    "    plt.xlabel(\"Degree\")\n",
    "    plt.ylabel(\"Degree probability\")\n",
    "    plt.title(\"Figure 3 - Degree Probability\")\n",
    "    plt.plot(k_values, Pk, 'bo')\n",
    "    plt.show()\n",
    "\n",
    "\"\"\"\n",
    "    This Function receives the network graph and plots Cumulative Distribution of Contacts time.\n",
    "    The Contact Size probability Pk represents the probability of an individual has a contact of size k.\n",
    "\"\"\"\n",
    "def plotSizeOfContactsCumDist(network):\n",
    "    weights = []\n",
    "    for (u,v,w) in network.edges(data='weight'):\n",
    "        weights.append(w)\n",
    "    \n",
    "    max_size = max(weights)\n",
    "    cum_Pk = [0]*(max_size+50) # + 50 so we can see the limit going to zero.\n",
    "    k_values = [0]*(max_size+50)\n",
    "    for k in range(0, max_size+50):\n",
    "        k_values[k] = k\n",
    "        cum_Pk[k] = len([i for i in weights if i >= k]) / len(weights)\n",
    "    \n",
    "    plt.xlabel(\"Contact Size (Units: Interactions)\")\n",
    "    plt.ylabel(\"Cumulative Probability\")\n",
    "    plt.title(\"Figure 4 - Cumulative Distribution of Contacts time\")\n",
    "    data_points, = plt.plot(k_values, cum_Pk, 'bo', label='Data Points')\n",
    "    powerLaw, = plt.plot([x**-0.667 for x in k_values if x != 0.0], 'k', label='Pk ≈ k^-γ')\n",
    "    plt.legend(handles=[data_points, powerLaw])\n",
    "    \n",
    "    plt.show()\n",
    "\n",
    "def plotSizeOfContactsLogScale(network):\n",
    "    weights = []\n",
    "    for (u,v,w) in network.edges(data='weight'):\n",
    "        weights.append(w)\n",
    "    \n",
    "    max_size = max(weights)\n",
    "    Pk = [0]*(max_size+10) # + 10 so we can see the limit going to zero.\n",
    "    k_values = [0]*(max_size+10)\n",
    "    for k in range(0, max_size+10):\n",
    "        k_values[k] = k\n",
    "        Pk[k] = len([i for i in weights if i == k]) / len(weights)\n",
    "    \n",
    "    plt.yscale('log')\n",
    "    plt.xscale('log')\n",
    "    plt.xlabel(\"Contact Size (Units: Interactions)\")\n",
    "    plt.ylabel(\"Probability\")\n",
    "    plt.title(\"Figure 5 - Degree Probability\")\n",
    "    plt.plot(k_values, Pk, 'bo')\n",
    "    plt.show()\n",
    "\n",
    "\n",
    "plotWeightedDegreeHistogram(network=network) # figure 1\n",
    "#plotCumulativeDist(network=network) # figure 2\n",
    "#plotDegreeProbability(network=network) #NOT WHATS IS EXPECTED.... Power Law? # figure 3\n",
    "#plotSizeOfContactsCumDist(network=network) # figure 4\n",
    "#plotSizeOfContactsLogScale(network=network) # figure 5\n",
    "\n",
    "degree = nx.degree(network)\n",
    "degree_values = list(map(lambda x: x[1], degree))\n",
    "average_degree = sum(degree_values)/len(degree_values)\n",
    "print (average_degree)\n",
    "\n",
    "degree = nx.degree(network, weight=\"weight\")\n",
    "degree_values = list(map(lambda x: x[1], degree))\n",
    "average_weighted_degree = sum(degree_values)/len(degree_values)\n",
    "print (average_weighted_degree )"
   ]
  },
  {
   "cell_type": "markdown",
   "metadata": {},
   "source": [
    "####  Average Degree  =  299.850\n",
    "#### Average Weighted Degree = 5424.735\n",
    "\n",
    "Ignoring the weight of a contact we can see by figure 1 that there is a great number of people with 300/350 contacts per day.\n",
    "\n",
    "Figure 2 gives us an idea of the how likely is for a person to have more than k contacts per day. We can see having a small number of contacts is unlikely but having more than 340 contacts is very unlikely too.\n",
    "\n",
    "##### but are all contacts equal? What is the distribution of the size of a contact?\n",
    "\n",
    "In order to see the distribution of the size of a contact we need to look to the weights that represent the sum of all interactions between 2 persons.\n",
    "\n",
    "figure 4 show us a very interesting thing... The relation between the size of a contact and his probability is a power law! which means that as the size of the contact increases the more rare it becames.\n",
    "\n",
    "The γ in this power law is ≈ 0.667. γ value is typically in the range 2 < γ < 3 for a scale free network\n"
   ]
  },
  {
   "cell_type": "markdown",
   "metadata": {},
   "source": [
    "### Average Path Length (APL):\n",
    "In order to compute this we had to remove node 548 because it was disconnected. Maybe that student was missing in that day.\n",
    "\n",
    "#### Average Path Lenght is 1.6219 considering no weights.\n",
    "\n",
    "#### Average Path Lenght is 1.8700 considering weights.  \n",
    "\n",
    "The result without weights means that in average the distance between 2 pair is 1.6219, (in portuguese) em media uma pessoa não tem contacto com todas as outras pessoas, mas para todas aquelas com quem não teve contacto existe alguem (das que teve contacto) que teve contacto com essa pessoa (com quem não teve contacto).\n",
    "(contact with ≈ 3/4 of the the total school population)\n",
    "\n",
    "If we consider weights we are not looking for contacts but we are looking for Interactions which gives a clue of the size of the contacts too.\n",
    "In average a person the distance between 2 pairs is 1.8700 Interactions. The fact that this number is higher than the one presented before is because the there is a lot of small contacts (> 3 Interactions for example). These metric not only measures the distance between 2 pair it will also multiply that distance by the weight (duration) of the links in the path between the pair.\n",
    "\n",
    "APL shows that the network presents a small-world property. "
   ]
  },
  {
   "cell_type": "code",
   "execution_count": null,
   "metadata": {
    "collapsed": true
   },
   "outputs": [],
   "source": [
    "# this takes a while...\n",
    "# Running this 2 times will generate an error.\n",
    "#network.remove_node(548) # should we remove this node? its not connected with any other.... it's a student...\n",
    "    \n",
    "#apl_not_weighted = nx.average_shortest_path_length(network)\n",
    "#apl_weighted = nx.average_shortest_path_length(network, weight=\"weight\")\n",
    "\n",
    "#apl_weighted = 1.8700778513793304 but actually there is A LOT of edges with weight = 1"
   ]
  },
  {
   "cell_type": "markdown",
   "metadata": {
    "collapsed": true
   },
   "source": [
    "### Clustering Coefficient:\n",
    "\"People tend to have friends who are also friends with each other\"\n",
    "\n",
    "#### Average CC without considering weights: 0.4988\n",
    "#### Average CC considering weights: 0.0056"
   ]
  },
  {
   "cell_type": "code",
   "execution_count": 11,
   "metadata": {
    "collapsed": true
   },
   "outputs": [],
   "source": [
    "# this computatio takes a while\n",
    "\n",
    "cc_not_weighted = nx.clustering(network)\n",
    "cc_weighted = nx.clustering(network, weight='weight')\n",
    "average_cc = sum(cc_not_weighted.values())/ len(cc_not_weighted.values())\n",
    "average_cc_wighted = sum(cc_weighted.values())/ len(cc_weighted.values())\n"
   ]
  },
  {
   "cell_type": "markdown",
   "metadata": {
    "collapsed": true
   },
   "source": [
    "### 3. Node characteristics Analisys:\n",
    "\n",
    "There is many metric to characterize a node.\n",
    "In this section we explore some of them.\n",
    "\n",
    "### Degree Centrality:\n",
    "\"how popular is a node?\""
   ]
  },
  {
   "cell_type": "code",
   "execution_count": 30,
   "metadata": {
    "collapsed": false
   },
   "outputs": [
    {
     "name": "stdout",
     "output_type": "stream",
     "text": [
      "Max degree centrality: 0.6688, Id and Role: (172, 'student')\n",
      "Min degree centrality: 0.0000, Id and Role: (549, 'student')\n"
     ]
    }
   ],
   "source": [
    "degree_centrality  = nx.degree_centrality(network)\n",
    "\n",
    "\n",
    "max_centrality = max(degree_centrality.values())\n",
    "min_centrality = min(degree_centrality.values())\n",
    "\n",
    "max_id = 0# we want to know who is the most popular and whats the role associated.\n",
    "min_id = 0\n",
    "count=0\n",
    "for key, value in degree_centrality.items():\n",
    "    if value == max_centrality:\n",
    "        max_id = key\n",
    "    if value == min_centrality:\n",
    "        min_id = key\n",
    "        \n",
    "max_centrality_role = load_nodes()[max_id]\n",
    "min_centrality_role = load_nodes()[min_id]\n",
    "print(\"Max degree centrality: %0.4f, Id and Role: %s\" % (max_centrality, max_centrality_role))\n",
    "print(\"Min degree centrality: %0.4f, Id and Role: %s\" % (min_centrality, min_centrality_role))"
   ]
  },
  {
   "cell_type": "markdown",
   "metadata": {},
   "source": [
    "### Eigenvector Centrality:\n",
    "\"my friends are better than yours\""
   ]
  },
  {
   "cell_type": "code",
   "execution_count": 31,
   "metadata": {
    "collapsed": false
   },
   "outputs": [
    {
     "name": "stdout",
     "output_type": "stream",
     "text": [
      "{1: 0.06979695431472081, 2: 0.38705583756345174, 3: 0.299492385786802, 4: 0.3261421319796954, 5: 0.3527918781725888, 6: 0.4149746192893401, 7: 0.5279187817258882, 8: 0.38705583756345174, 9: 0.4276649746192893, 10: 0.482233502538071, 11: 0.3565989847715736, 12: 0.35406091370558374, 13: 0.39340101522842635, 14: 0.16878172588832485, 15: 0.38197969543147203, 16: 0.5215736040609137, 17: 0.3527918781725888, 18: 0.47335025380710655, 19: 0.38578680203045684, 20: 0.06598984771573603, 21: 0.4035532994923858, 22: 0.4911167512690355, 23: 0.4428934010152284, 24: 0.44670050761421315, 25: 0.4682741116751269, 26: 0.02284263959390863, 27: 0.43908629441624364, 28: 0.39213197969543145, 29: 0.33883248730964466, 30: 0.4873096446700507, 31: 0.47715736040609136, 32: 0.416243654822335, 33: 0.3223350253807106, 34: 0.05456852791878172, 35: 0.3692893401015228, 36: 0.42512690355329946, 37: 0.3477157360406091, 38: 0.30203045685279184, 39: 0.15101522842639592, 40: 0.383248730964467, 41: 0.2728426395939086, 42: 0.43908629441624364, 43: 0.49873096446700504, 44: 0.17258883248730963, 45: 0.4416243654822335, 46: 0.4149746192893401, 47: 0.31979695431472077, 48: 0.3959390862944162, 49: 0.45304568527918776, 50: 0.35913705583756345, 51: 0.08121827411167512, 52: 0.3845177664974619, 53: 0.03426395939086294, 54: 0.4314720812182741, 55: 0.24238578680203043, 56: 0.4365482233502538, 57: 0.45685279187817257, 58: 0.19289340101522842, 59: 0.36040609137055835, 60: 0.4898477157360406, 61: 0.3109137055837563, 62: 0.2246192893401015, 63: 0.42512690355329946, 64: 0.41243654822335024, 65: 0.3362944162436548, 66: 0.43401015228426393, 67: 0.41878172588832485, 68: 0.09010152284263959, 69: 0.14720812182741116, 70: 0.4543147208121827, 71: 0.3895939086294416, 72: 0.42385786802030456, 73: 0.30710659898477155, 74: 0.5469543147208121, 75: 0.45050761421319796, 76: 0.4682741116751269, 77: 0.31218274111675126, 78: 0.3946700507614213, 79: 0.4758883248730964, 80: 0.416243654822335, 81: 0.46700507614213194, 82: 0.3959390862944162, 83: 0.41243654822335024, 84: 0.43908629441624364, 85: 0.5025380710659898, 86: 0.3527918781725888, 87: 0.3692893401015228, 88: 0.5076142131979695, 89: 0.45050761421319796, 90: 0.21319796954314718, 91: 0.38705583756345174, 92: 0.23604060913705582, 93: 0.41370558375634514, 94: 0.32741116751269034, 95: 0.5406091370558376, 96: 0.14340101522842638, 97: 0.37182741116751267, 98: 0.4543147208121827, 99: 0.4416243654822335, 100: 0.36167512690355325, 101: 0.5609137055837563, 102: 0.4746192893401015, 103: 0.5050761421319797, 104: 0.383248730964467, 105: 0.4479695431472081, 106: 0.2144670050761421, 107: 0.3096446700507614, 108: 0.024111675126903553, 109: 0.3045685279187817, 110: 0.4479695431472081, 111: 0.3629441624365482, 112: 0.5380710659898477, 113: 0.027918781725888322, 114: 0.44543147208121825, 115: 0.13705583756345177, 116: 0.3362944162436548, 117: 0.3413705583756345, 118: 0.36675126903553296, 119: 0.4873096446700507, 120: 0.23604060913705582, 121: 0.5063451776649746, 122: 0.4314720812182741, 123: 0.4555837563451776, 124: 0.48477157360406087, 125: 0.3413705583756345, 126: 0.515228426395939, 127: 0.45685279187817257, 128: 0.11040609137055837, 129: 0.3629441624365482, 130: 0.43908629441624364, 131: 0.3692893401015228, 132: 0.34517766497461927, 133: 0.5266497461928934, 134: 0.482233502538071, 135: 0.1878172588832487, 136: 0.2918781725888325, 137: 0.37182741116751267, 138: 0.42639593908629436, 139: 0.3147208121827411, 140: 0.149746192893401, 141: 0.45050761421319796, 142: 0.09517766497461928, 143: 0.34010152284263956, 144: 0.45304568527918776, 145: 0.4961928934010152, 146: 0.18274111675126903, 147: 0.4365482233502538, 148: 0.416243654822335, 149: 0.34517766497461927, 150: 0.5850253807106599, 151: 0.38197969543147203, 152: 0.45685279187817257, 153: 0.4479695431472081, 154: 0.11167512690355329, 155: 0.37182741116751267, 156: 0.24238578680203043, 157: 0.44670050761421315, 158: 0.47335025380710655, 159: 0.5088832487309645, 160: 0.482233502538071, 161: 0.3705583756345177, 162: 0.04441624365482233, 163: 0.1751269035532995, 164: 0.449238578680203, 165: 0.383248730964467, 166: 0.32868020304568524, 167: 0.48350253807106597, 168: 0.31218274111675126, 169: 0.48477157360406087, 170: 0.4314720812182741, 171: 0.6687817258883249, 172: 0.515228426395939, 173: 0.4213197969543147, 174: 0.28680203045685276, 175: 0.3642131979695431, 176: 0.31979695431472077, 177: 0.4606598984771573, 178: 0.40862944162436543, 179: 0.3769035532994924, 180: 0.10279187817258882, 181: 0.3426395939086294, 182: 0.15989847715736039, 183: 0.33883248730964466, 184: 0.38832487309644664, 185: 0.4302030456852792, 186: 0.3794416243654822, 187: 0.4708121827411167, 188: 0.5456852791878172, 189: 0.1751269035532995, 190: 0.4898477157360406, 191: 0.5545685279187816, 192: 0.44543147208121825, 193: 0.33375634517766495, 194: 0.45304568527918776, 195: 0.3705583756345177, 196: 0.482233502538071, 197: 0.15736040609137056, 198: 0.2309644670050761, 199: 0.4276649746192893, 200: 0.4378172588832487, 201: 0.6015228426395939, 202: 0.416243654822335, 203: 0.4974619289340101, 204: 0.11928934010152284, 205: 0.4149746192893401, 206: 0.4543147208121827, 207: 0.282994923857868, 208: 0.4746192893401015, 209: 0.4111675126903553, 210: 0.5482233502538071, 211: 0.4911167512690355, 212: 0.4289340101522842, 213: 0.36167512690355325, 214: 0.36675126903553296, 215: 0.45812182741116747, 216: 0.3781725888324873, 217: 0.5368020304568527, 218: 0.27538071065989844, 219: 0.39847715736040606, 220: 0.026649746192893398, 221: 0.6205583756345178, 222: 0.15736040609137056, 223: 0.5380710659898477, 224: 0.36167512690355325, 225: 0.49873096446700504, 226: 0.31979695431472077, 227: 0.32868020304568524, 228: 0.3642131979695431, 229: 0.3946700507614213, 230: 0.348984771573604, 231: 0.42005076142131975, 232: 0.2880710659898477, 233: 0.36548223350253806, 234: 0.03934010152284264, 235: 0.5190355329949238, 236: 0.4314720812182741, 237: 0.27918781725888325, 238: 0.36040609137055835, 239: 0.5545685279187816, 240: 0.2182741116751269, 241: 0.3375634517766497, 242: 0.5596446700507614, 243: 0.15989847715736039, 244: 0.49238578680203043, 245: 0.2703045685279188, 246: 0.4035532994923858, 247: 0.5012690355329948, 248: 0.38705583756345174, 249: 0.3692893401015228, 250: 0.39340101522842635, 251: 0.532994923857868, 252: 0.46573604060913704, 253: 0.47335025380710655, 254: 0.3578680203045685, 255: 0.3781725888324873, 256: 0.5342639593908629, 257: 0.23604060913705582, 258: 0.13071065989847716, 259: 0.3565989847715736, 260: 0.006345177664974619, 261: 0.42385786802030456, 262: 0.5088832487309645, 263: 0.5291878172588832, 264: 0.38197969543147203, 265: 0.4555837563451776, 266: 0.4555837563451776, 267: 0.006345177664974619, 268: 0.47842639593908626, 269: 0.5177664974619289, 270: 0.3515228426395939, 271: 0.3895939086294416, 272: 0.4873096446700507, 273: 0.27918781725888325, 274: 0.11167512690355329, 275: 0.39340101522842635, 276: 0.4314720812182741, 277: 0.48350253807106597, 278: 0.4289340101522842, 279: 0.4695431472081218, 280: 0.4010152284263959, 281: 0.4961928934010152, 282: 0.10532994923857868, 283: 0.4543147208121827, 284: 0.5241116751269035, 285: 0.18274111675126903, 286: 0.3515228426395939, 287: 0.43274111675126903, 288: 0.516497461928934, 289: 0.015228426395939085, 290: 0.49999999999999994, 291: 0.43527918781725883, 292: 0.23857868020304568, 293: 0.3692893401015228, 294: 0.5190355329949238, 295: 0.5507614213197969, 296: 0.31218274111675126, 297: 0.3578680203045685, 298: 0.3261421319796954, 299: 0.598984771573604, 300: 0.38578680203045684, 301: 0.3426395939086294, 302: 0.4606598984771573, 303: 0.20304568527918782, 304: 0.5469543147208121, 305: 0.21700507614213196, 306: 0.2931472081218274, 307: 0.5088832487309645, 308: 0.3362944162436548, 309: 0.4048223350253807, 310: 0.3705583756345177, 311: 0.3362944162436548, 312: 0.516497461928934, 313: 0.34010152284263956, 314: 0.43908629441624364, 315: 0.40609137055837563, 316: 0.13959390862944163, 317: 0.48477157360406087, 318: 0.3756345177664974, 319: 0.49238578680203043, 320: 0.45685279187817257, 321: 0.4441624365482233, 322: 0.6472081218274112, 323: 0.2614213197969543, 324: 0.3210659898477157, 325: 0.31852791878172587, 326: 0.33502538071065985, 327: 0.11675126903553298, 328: 0.1814720812182741, 329: 0.4682741116751269, 330: 0.3515228426395939, 331: 0.5380710659898477, 332: 0.482233502538071, 333: 0.47715736040609136, 334: 0.5291878172588832, 335: 0.6167512690355329, 336: 0.4314720812182741, 337: 0.17005076142131978, 338: 0.26015228426395937, 339: 0.3362944162436548, 340: 0.39340101522842635, 341: 0.10659898477157359, 342: 0.49238578680203043, 343: 0.42512690355329946, 344: 0.3845177664974619, 345: 0.5241116751269035, 346: 0.2563451776649746, 347: 0.20304568527918782, 348: 0.11421319796954314, 349: 0.5710659898477157, 350: 0.3261421319796954, 351: 0.36548223350253806, 352: 0.12690355329949238, 353: 0.07360406091370558, 354: 0.47969543147208116, 355: 0.4911167512690355, 356: 0.4302030456852792, 357: 0.27538071065989844, 358: 0.5456852791878172, 359: 0.4365482233502538, 360: 0.4631979695431472, 361: 0.3362944162436548, 362: 0.3794416243654822, 363: 0.5101522842639593, 364: 0.4314720812182741, 365: 0.4289340101522842, 366: 0.4302030456852792, 367: 0.4695431472081218, 368: 0.4555837563451776, 369: 0.416243654822335, 370: 0.3527918781725888, 371: 0.315989847715736, 372: 0.38071065989847713, 373: 0.5583756345177665, 374: 0.36548223350253806, 375: 0.1281725888324873, 376: 0.005076142131979695, 377: 0.15101522842639592, 378: 0.3908629441624365, 379: 0.3629441624365482, 380: 0.49999999999999994, 381: 0.33375634517766495, 382: 0.4606598984771573, 383: 0.5482233502538071, 384: 0.416243654822335, 385: 0.4606598984771573, 386: 0.5736040609137055, 387: 0.10913705583756345, 388: 0.3147208121827411, 389: 0.11040609137055837, 390: 0.44035532994923854, 391: 0.4441624365482233, 392: 0.516497461928934, 393: 0.47969543147208116, 394: 0.47969543147208116, 395: 0.4885786802030456, 396: 0.5368020304568527, 397: 0.5114213197969543, 398: 0.4213197969543147, 399: 0.5342639593908629, 400: 0.4010152284263959, 401: 0.39974619289340096, 402: 0.47969543147208116, 403: 0.5253807106598984, 404: 0.5532994923857868, 405: 0.35406091370558374, 406: 0.15862944162436546, 407: 0.3565989847715736, 408: 0.3705583756345177, 409: 0.5038071065989848, 410: 0.21954314720812182, 411: 0.39213197969543145, 412: 0.4758883248730964, 413: 0.45812182741116747, 414: 0.47842639593908626, 415: 0.45685279187817257, 416: 0.4885786802030456, 417: 0.15355329949238578, 418: 0.45304568527918776, 419: 0.5215736040609137, 420: 0.4302030456852792, 421: 0.6104060913705583, 422: 0.43274111675126903, 423: 0.6256345177664974, 424: 0.567258883248731, 425: 0.43527918781725883, 426: 0.47335025380710655, 427: 0.30076142131979694, 428: 0.4619289340101522, 429: 0.2969543147208122, 430: 0.24365482233502536, 431: 0.47715736040609136, 432: 0.3439086294416243, 433: 0.33502538071065985, 434: 0.31979695431472077, 435: 0.5101522842639593, 436: 0.053299492385786795, 437: 0.45685279187817257, 438: 0.49238578680203043, 439: 0.3781725888324873, 440: 0.4631979695431472, 441: 0.5748730964467005, 442: 0.38832487309644664, 443: 0.2931472081218274, 444: 0.4961928934010152, 445: 0.39974619289340096, 446: 0.5050761421319797, 447: 0.2449238578680203, 448: 0.3527918781725888, 449: 0.3845177664974619, 450: 0.4619289340101522, 451: 0.4555837563451776, 452: 0.4035532994923858, 453: 0.4022842639593908, 454: 0.5177664974619289, 455: 0.515228426395939, 456: 0.14340101522842638, 457: 0.3972081218274111, 458: 0.41243654822335024, 459: 0.41370558375634514, 460: 0.42385786802030456, 461: 0.4809644670050761, 462: 0.3527918781725888, 463: 0.3946700507614213, 464: 0.45050761421319796, 465: 0.08502538071065989, 466: 0.3426395939086294, 467: 0.4276649746192893, 468: 0.5431472081218274, 469: 0.3972081218274111, 470: 0.4631979695431472, 471: 0.36040609137055835, 472: 0.13197969543147206, 473: 0.10406091370558375, 474: 0.3426395939086294, 475: 0.28172588832487305, 476: 0.5076142131979695, 477: 0.04695431472081218, 478: 0.18654822335025378, 479: 0.3426395939086294, 480: 0.39340101522842635, 481: 0.5621827411167513, 482: 0.3908629441624365, 483: 0.4416243654822335, 484: 0.5342639593908629, 485: 0.2347715736040609, 486: 0.15989847715736039, 487: 0.5076142131979695, 488: 0.3680203045685279, 489: 0.4695431472081218, 490: 0.5215736040609137, 491: 0.22842639593908629, 492: 0.29568527918781723, 493: 0.43274111675126903, 494: 0.4175126903553299, 495: 0.5774111675126903, 496: 0.299492385786802, 497: 0.49238578680203043, 498: 0.5634517766497461, 499: 0.2347715736040609, 500: 0.40736040609137053, 501: 0.416243654822335, 502: 0.47715736040609136, 503: 0.3147208121827411, 504: 0.49873096446700504, 505: 0.18654822335025378, 506: 0.416243654822335, 507: 0.41243654822335024, 508: 0.4911167512690355, 509: 0.36548223350253806, 510: 0.5038071065989848, 511: 0.3642131979695431, 512: 0.4860406091370558, 513: 0.3895939086294416, 514: 0.30710659898477155, 515: 0.46700507614213194, 516: 0.4365482233502538, 517: 0.5393401015228426, 518: 0.5875634517766497, 519: 0.25380710659898476, 520: 0.6040609137055837, 521: 0.4416243654822335, 522: 0.36167512690355325, 523: 0.4441624365482233, 524: 0.16751269035532992, 525: 0.3629441624365482, 526: 0.149746192893401, 527: 0.4885786802030456, 528: 0.3680203045685279, 529: 0.4111675126903553, 530: 0.5406091370558376, 531: 0.5977157360406091, 532: 0.5558375634517766, 533: 0.39847715736040606, 534: 0.4758883248730964, 535: 0.4416243654822335, 536: 0.44035532994923854, 537: 0.4949238578680203, 538: 0.5228426395939086, 539: 0.41243654822335024, 540: 0.09263959390862943, 541: 0.2614213197969543, 542: 0.18020304568527917, 543: 0.39213197969543145, 544: 0.39847715736040606, 545: 0.024111675126903553, 546: 0.3845177664974619, 547: 0.5190355329949238, 548: 0.0, 549: 0.5609137055837563, 550: 0.1446700507614213, 551: 0.6078680203045684, 552: 0.47715736040609136, 553: 0.3527918781725888, 554: 0.47715736040609136, 555: 0.5012690355329948, 556: 0.5025380710659898, 557: 0.42639593908629436, 558: 0.3527918781725888, 559: 0.43274111675126903, 560: 0.42639593908629436, 561: 0.3629441624365482, 562: 0.44035532994923854, 563: 0.4010152284263959, 564: 0.4809644670050761, 565: 0.33883248730964466, 566: 0.11928934010152284, 567: 0.5977157360406091, 568: 0.416243654822335, 569: 0.3045685279187817, 570: 0.2081218274111675, 571: 0.36040609137055835, 572: 0.3147208121827411, 573: 0.3413705583756345, 574: 0.5418781725888324, 575: 0.12563451776649745, 576: 0.23223350253807104, 577: 0.5177664974619289, 578: 0.5406091370558376, 579: 0.44543147208121825, 580: 0.11040609137055837, 581: 0.46700507614213194, 582: 0.4213197969543147, 583: 0.4873096446700507, 584: 0.4949238578680203, 585: 0.3477157360406091, 586: 0.3477157360406091, 587: 0.416243654822335, 588: 0.3248730964467005, 589: 0.45050761421319796, 590: 0.43401015228426393, 591: 0.15862944162436546, 592: 0.4543147208121827, 593: 0.5355329949238579, 594: 0.3642131979695431, 595: 0.3578680203045685, 596: 0.4416243654822335, 597: 0.4860406091370558, 598: 0.3946700507614213, 599: 0.08248730964467005, 600: 0.3439086294416243, 601: 0.3781725888324873, 602: 0.41370558375634514, 603: 0.3845177664974619, 604: 0.4479695431472081, 605: 0.24746192893401014, 606: 0.383248730964467, 607: 0.4631979695431472, 608: 0.49365482233502533, 609: 0.32741116751269034, 610: 0.44543147208121825, 611: 0.482233502538071, 612: 0.383248730964467, 613: 0.1878172588832487, 614: 0.4695431472081218, 615: 0.1751269035532995, 616: 0.4682741116751269, 617: 0.38705583756345174, 618: 0.5545685279187816, 619: 0.43401015228426393, 620: 0.350253807106599, 621: 0.4225888324873096, 622: 0.2081218274111675, 623: 0.13705583756345177, 624: 0.15609137055837563, 625: 0.5304568527918782, 626: 0.4149746192893401, 627: 0.2906091370558375, 628: 0.08629441624365482, 629: 0.5862944162436547, 630: 0.5431472081218274, 631: 0.3261421319796954, 632: 0.45177664974619286, 633: 0.5418781725888324, 634: 0.39340101522842635, 635: 0.20685279187817257, 636: 0.266497461928934, 637: 0.42512690355329946, 638: 0.46573604060913704, 639: 0.45812182741116747, 640: 0.23730964467005075, 641: 0.2728426395939086, 642: 0.5063451776649746, 643: 0.17766497461928932, 644: 0.38071065989847713, 645: 0.17893401015228425, 646: 0.5025380710659898, 647: 0.05710659898477157, 648: 0.45685279187817257, 649: 0.43274111675126903, 650: 0.4708121827411167, 651: 0.39213197969543145, 652: 0.4441624365482233, 653: 0.45812182741116747, 654: 0.4289340101522842, 655: 0.4593908629441624, 656: 0.15609137055837563, 657: 0.4428934010152284, 658: 0.48350253807106597, 659: 0.3515228426395939, 660: 0.4746192893401015, 661: 0.4048223350253807, 662: 0.45050761421319796, 663: 0.39847715736040606, 664: 0.10786802030456852, 665: 0.4098984771573604, 666: 0.5888324873096447, 667: 0.5368020304568527, 668: 0.45812182741116747, 669: 0.4022842639593908, 670: 0.567258883248731, 671: 0.44543147208121825, 672: 0.4911167512690355, 673: 0.06091370558375634, 674: 0.07106598984771573, 675: 0.39847715736040606, 676: 0.3705583756345177, 677: 0.45050761421319796, 678: 0.416243654822335, 679: 0.36548223350253806, 680: 0.23857868020304568, 681: 0.08756345177664974, 682: 0.4302030456852792, 683: 0.40609137055837563, 684: 0.5380710659898477, 685: 0.43527918781725883, 686: 0.3705583756345177, 687: 0.48350253807106597, 688: 0.4276649746192893, 689: 0.40862944162436543, 690: 0.3781725888324873, 691: 0.22715736040609136, 692: 0.5482233502538071, 693: 0.2715736040609137, 694: 0.4809644670050761, 695: 0.3096446700507614, 696: 0.38578680203045684, 697: 0.4149746192893401, 698: 0.2918781725888325, 699: 0.4619289340101522, 700: 0.4708121827411167, 701: 0.348984771573604, 702: 0.43401015228426393, 703: 0.5025380710659898, 704: 0.4365482233502538, 705: 0.12563451776649745, 706: 0.2347715736040609, 707: 0.3312182741116751, 708: 0.4708121827411167, 709: 0.45685279187817257, 710: 0.25380710659898476, 711: 0.2309644670050761, 712: 0.416243654822335, 713: 0.48477157360406087, 714: 0.18654822335025378, 715: 0.38578680203045684, 716: 0.5304568527918782, 717: 0.6345177664974618, 718: 0.3248730964467005, 719: 0.3515228426395939, 720: 0.34010152284263956, 721: 0.34517766497461927, 722: 0.2969543147208122, 723: 0.24365482233502536, 724: 0.5520304568527918, 725: 0.4441624365482233, 726: 0.36040609137055835, 727: 0.02284263959390863, 728: 0.4022842639593908, 729: 0.45177664974619286, 730: 0.43274111675126903, 731: 0.19670050761421318, 732: 0.5406091370558376, 733: 0.4911167512690355, 734: 0.2931472081218274, 735: 0.581218274111675, 736: 0.30583756345177665, 737: 0.3312182741116751, 738: 0.41243654822335024, 739: 0.03426395939086294, 740: 0.47208121827411165, 741: 0.3147208121827411, 742: 0.2728426395939086, 743: 0.3426395939086294, 744: 0.12055837563451775, 745: 0.5177664974619289, 746: 0.4010152284263959, 747: 0.3756345177664974, 748: 0.14213197969543145, 749: 0.4428934010152284, 750: 0.4961928934010152, 751: 0.3045685279187817, 752: 0.08756345177664974, 753: 0.20050761421319796, 754: 0.4010152284263959, 755: 0.18401015228426396, 756: 0.4543147208121827, 757: 0.35913705583756345, 758: 0.3895939086294416, 759: 0.3908629441624365, 760: 0.3972081218274111, 761: 0.4746192893401015, 762: 0.4289340101522842, 763: 0.4758883248730964, 764: 0.3946700507614213, 765: 0.4441624365482233, 766: 0.1916243654822335, 767: 0.5114213197969543, 768: 0.2893401015228426, 769: 0.46700507614213194, 770: 0.4175126903553299, 771: 0.4010152284263959, 772: 0.4758883248730964, 773: 0.41243654822335024, 774: 0.348984771573604, 775: 0.4378172588832487, 776: 0.5368020304568527, 777: 0.5431472081218274, 778: 0.3756345177664974, 779: 0.4860406091370558, 780: 0.5114213197969543, 781: 0.019035532994923856, 782: 0.35406091370558374, 783: 0.47969543147208116, 784: 0.2766497461928934, 785: 0.5088832487309645, 786: 0.11040609137055837, 787: 0.5875634517766497, 788: 0.49873096446700504, 789: 0.46573604060913704}\n"
     ]
    }
   ],
   "source": [
    "#not implemen\n",
    "print (degree_centrality)"
   ]
  },
  {
   "cell_type": "code",
   "execution_count": null,
   "metadata": {
    "collapsed": true
   },
   "outputs": [],
   "source": []
  }
 ],
 "metadata": {
  "celltoolbar": "Raw Cell Format",
  "kernelspec": {
   "display_name": "Python 3",
   "language": "python",
   "name": "python3"
  },
  "language_info": {
   "codemirror_mode": {
    "name": "ipython",
    "version": 3
   },
   "file_extension": ".py",
   "mimetype": "text/x-python",
   "name": "python",
   "nbconvert_exporter": "python",
   "pygments_lexer": "ipython3",
   "version": "3.6.0"
  }
 },
 "nbformat": 4,
 "nbformat_minor": 1
}
