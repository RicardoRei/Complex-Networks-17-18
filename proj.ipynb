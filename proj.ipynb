{
 "cells": [
  {
   "cell_type": "markdown",
   "metadata": {},
   "source": [
    "# Complex Networks"
   ]
  },
  {
   "cell_type": "markdown",
   "metadata": {},
   "source": [
    "## Infectious Disease Spreading\n",
    "\n",
    "In this project we choosed a real-world dataset about disease spreading and analyze it.\n",
    "The dataset can be found in http://sing.stanford.edu/flu/"
   ]
  },
  {
   "cell_type": "markdown",
   "metadata": {},
   "source": [
    "# The Dataset\n",
    "\n",
    "### What is the dataset?\n",
    "\t\n",
    "    The dataset is high-resolution temporal contact network related to the spread of infectious diseases via droplet \n",
    "    transmission.\n",
    "    It represents the recording of single day of individual contacts in an American highschool.\n",
    "\n",
    "### What is the network?\n",
    "\t\n",
    "\tThe aggregate network for the entire day can be represented by a weighted undirected network.\n",
    "\n",
    "\t> Nodes (N) represent individuals wearing mote sensors.\n",
    "\t> Edges (E) represent contacts between the individuals. The edge weight represents the duration of the contact (in minutes)\n",
    "\n",
    "\tN = 788  (655 students, 73 teachers, 55 staff, and 5 other persons)\n",
    "\tE = 762,868 (total number of contacts, 94% coverage)\n",
    "\n",
    "\n",
    "### How was the data collected?\n",
    "\t\n",
    "    The data was collected using a wireless sensor network (TelosB motes) that detected when two people were within \n",
    "    range of one another.\n",
    "\tA contact was recorded if the distance between two individuals was less than or equal to 3 meters.\n",
    "    The duration of the contact was also recorded.\n",
    "\tThere was 94% coverage of the total school population's contacts."
   ]
  },
  {
   "cell_type": "markdown",
   "metadata": {},
   "source": [
    "### 1. Data Set Integration\n",
    "\n",
    "We start by loading the dataset and transform it into a graph with networkx (https://networkx.github.io/documentation/stable/index.html).\n",
    "\n",
    "In order to transform the dataset into a graph its important to understand what's inside it.\n",
    "\n",
    "The population is composed by an entire school, representing 655 students, 73 teachers, 55 staff, and 5 other persons.\n",
    "It contains 2,148,991 unique close proximity records (CPRs). A CPR represents one close (maximum of 3 m) proximity detection event between two motes. Thus, a contact exists between two motes if there is at least one interaction between them during the day, and the duration of the contact is the total duration of all interactions between these two motes. Because the beaconing frequency of a mote is 0.05 s−1, an interaction of length 3 (in CPRs) corresponds to an interaction of about 1 min (SI Text and references therein). The entire dataset consists of 762,868 interactions with a mean duration of 2.8 CPRs (∼1 min), or 118,291 contacts with mean duration of 18.1 CPRs (∼6 min).\n",
    "\n",
    "The aggregate network for the entire day can be represented by a weighted undirected graph, wherein nodes represent indi- viduals and edges represent contacts (edges are weighted by contact duration).\n",
    "\n",
    "### Inports and Folder Information"
   ]
  },
  {
   "cell_type": "code",
   "execution_count": 1,
   "metadata": {
    "scrolled": false
   },
   "outputs": [
    {
     "name": "stdout",
     "output_type": "stream",
     "text": [
      "['moteFiles', 'edgeLists', 'README.txt', 'roles.txt']\n"
     ]
    }
   ],
   "source": [
    "import os\n",
    "import networkx as nx\n",
    "\n",
    "dataset_root_path = \"flu-data\" # corpora\n",
    "parameters_path = '/dropoff=0/minimumDuration=1/deltaT=1620/staticWeightedEdgeList_at=1350_min=540_max=2159.txt'\n",
    "addThenChop_path = dataset_root_path + '/edgeLists/durationCondition/' + 'addThenChop' + parameters_path\n",
    "chopThenAdd_path = dataset_root_path + '/edgeLists/durationCondition/' + 'chopThenAdd' + parameters_path\n",
    "chopThenCount_path = dataset_root_path + '/edgeLists/durationCondition/' + 'chopThenCount' + parameters_path\n",
    "justChop_path = dataset_root_path + '/edgeLists/durationCondition/' + 'justChop' + parameters_path\n",
    "\n",
    "print(os.listdir(dataset_root_path)) # files that contain the dataset info"
   ]
  },
  {
   "cell_type": "code",
   "execution_count": 3,
   "metadata": {
    "collapsed": true,
    "scrolled": false
   },
   "outputs": [],
   "source": [
    "\"\"\"\n",
    "    Loads the nodes for the network\n",
    "    Returns the sorted list of nodes\n",
    "\"\"\"\n",
    "def load_nodes():\n",
    "    \n",
    "    roles_file = open(dataset_root_path + \"/roles.txt\", 'r')\n",
    "    roles = []\n",
    "    \n",
    "    for line in roles_file:\n",
    "        id = int(line.split()[0])\n",
    "        role = line.split()[1]\n",
    "        roles.append((id, role))\n",
    "\n",
    "    # TODO - Check why the hell the first 12 individuals have the same ID.\n",
    "    # For now we eliminate the first 12 entries and get 789 roles shouldn't be 788 ?(655 + 73 + 55 + 5)\n",
    "   \n",
    "    roles = sorted(roles, key=lambda id: id)[12:] \n",
    "    return roles\n",
    "\n",
    "\"\"\"\n",
    "    Loads the edges\n",
    "    Returns the list of edges\n",
    "\"\"\"\n",
    "def load_edges(contact_strategy_path):\n",
    "    \n",
    "    strategy_file = open(contact_strategy_path , 'r')\n",
    "    \n",
    "    edges = [] #starting with addThenChop strategy to define the edges.\n",
    "    \n",
    "    for line in strategy_file:\n",
    "        id1 = int(line.split()[0])\n",
    "        id2 = int(line.split()[1])\n",
    "        weight = int(line.split()[2])\n",
    "        edge = (id1, id2, weight)\n",
    "        \n",
    "        edges.append(edge)\n",
    "    \n",
    "    return edges\n",
    "\n",
    "\"\"\"\n",
    "    Returns the NetworkX network structure loaded with the nodes and edges\n",
    "    Parameter contact_strategy_path - \"contact strategy\" folder specified (Default = addThenChop)\n",
    "\"\"\"\n",
    "def load_network(contact_strategy_path = addThenChop_path):\n",
    "    \n",
    "    network = nx.Graph()\n",
    "    \n",
    "    nodes = load_nodes()\n",
    "    edges = load_edges(contact_strategy_path)\n",
    "    \n",
    "    N = len(nodes)\n",
    "    E = len(edges)\n",
    "    \n",
    "    for i in range(1, N + 1):\n",
    "        network.add_node(i)\n",
    "        \n",
    "    network.add_weighted_edges_from(edges)\n",
    "    \n",
    "    return network\n",
    "\n",
    "network = load_network()"
   ]
  },
  {
   "cell_type": "markdown",
   "metadata": {
    "collapsed": true
   },
   "source": [
    "### 2. Network characteristics Analisys:\n",
    "\n",
    "There is many metric to characterize a network.\n",
    "In this section we explore some of them.\n",
    "\n",
    "### Degree distribution:\n"
   ]
  },
  {
   "cell_type": "code",
   "execution_count": 4,
   "metadata": {},
   "outputs": [
    {
     "data": {
      "image/png": "[encoded data removed]",
      "text/plain": [
       "<matplotlib.figure.Figure at 0x7f8692a540f0>"
      ]
     },
     "metadata": {},
     "output_type": "display_data"
    },
    {
     "data": {
      "image/png": "[encoded data removed]",
      "text/plain": [
       "<matplotlib.figure.Figure at 0x7f868750bd30>"
      ]
     },
     "metadata": {},
     "output_type": "display_data"
    },
    {
     "data": {
      "image/png": "[encoded data removed]",
      "text/plain": [
       "<matplotlib.figure.Figure at 0x7f869280d518>"
      ]
     },
     "metadata": {},
     "output_type": "display_data"
    },
    {
     "data": {
      "image/png": "[encoded data removed]",
      "text/plain": [
       "<matplotlib.figure.Figure at 0x7f869280d4a8>"
      ]
     },
     "metadata": {},
     "output_type": "display_data"
    },
    {
     "name": "stdout",
     "output_type": "stream",
     "text": [
      "299.850443599493\n",
      "5424.735107731305\n"
     ]
    }
   ],
   "source": [
    "import numpy as np\n",
    "import matplotlib.pyplot as plt\n",
    "\n",
    "\n",
    "\"\"\"\n",
    "    This Function receives the network graph and plots the degree histogram. \n",
    "\"\"\"\n",
    "def plotDegreeHistogram(network):\n",
    "    degree = nx.degree(network)\n",
    "    values = map(lambda x: x[1], degree)\n",
    "    plt.hist(list(values))\n",
    "    plt.xlabel(\"Degree\")\n",
    "    plt.ylabel(\"Nodes\")\n",
    "    plt.title(\"Figure 1 -Degree distribution\")\n",
    "    plt.show()\n",
    "\n",
    "\n",
    "\"\"\"\n",
    "    This Function receives the network graph and plots the cumulative degree distribution.\n",
    "    The Cumulative degree distribution cum_Pk represents the fraction of nodes with degree higher than k.\n",
    "\"\"\"\n",
    "def plotCumulativeDist(network):\n",
    "    degree = nx.degree(network)\n",
    "    values = map(lambda x: x[1], degree)\n",
    "    max_degree = max(values)\n",
    "    \n",
    "    cum_Pk = [0]*(max_degree+50) # + 50 so we can see the limit going to zero.\n",
    "    k_values = [0]*(max_degree+50)\n",
    "    for k in range(0, max_degree+50):\n",
    "        k_values[k] = k\n",
    "        cum_Pk[k] = len([i for i in list(map(lambda x: x[1], degree)) if i >= k]) / len(network.nodes())\n",
    "    \n",
    "    plt.xlabel(\"Cumulative Degree Distribution\")\n",
    "    plt.ylabel(\"Degree\")\n",
    "    plt.title(\"Figure 2 - Cumulative Degree distribution\")\n",
    "    plt.plot(k_values, cum_Pk)\n",
    "    plt.show()\n",
    "    \n",
    "\n",
    "\"\"\"\n",
    "    This Function receives the network graph and plots the degree probability Pk.\n",
    "    The degree probability Pk represents the probability of a node has a degree  equal to k.\n",
    "\"\"\"\n",
    "def plotDegreeProbability(network):\n",
    "    degree = nx.degree(network)\n",
    "    values = map(lambda x: x[1], degree)\n",
    "    max_degree = max(values)\n",
    "    \n",
    "    Pk = [0]*(max_degree+10) # + 10 so we can see the limit going to zero.\n",
    "    k_values = [0]*(max_degree+10)\n",
    "    for k in range(0, max_degree+10):\n",
    "        k_values[k] = k\n",
    "        Pk[k] = len([i for i in list(map(lambda x: x[1], degree)) if i == k]) / len(network.nodes())\n",
    "    \n",
    "    plt.xlabel(\"Degree\")\n",
    "    plt.ylabel(\"Degree probability\")\n",
    "    plt.title(\"Figure 3 - Degree Probability\")\n",
    "    plt.plot(k_values, Pk, 'bo')\n",
    "    plt.show()\n",
    "\n",
    "\"\"\"\n",
    "    This Function receives the network graph and plots Cumulative Distribution of Contacts time.\n",
    "    The Contact Size probability Pk represents the probability of an individual has a contact of size k.\n",
    "\"\"\"\n",
    "def plotSizeOfContactsCumDist(network):\n",
    "    weights = []\n",
    "    for (u,v,w) in network.edges(data='weight'):\n",
    "        weights.append(w)\n",
    "    \n",
    "    max_size = max(weights)\n",
    "    cum_Pk = [0]*(max_size+50) # + 50 so we can see the limit going to zero.\n",
    "    k_values = [0]*(max_size+50)\n",
    "    for k in range(0, max_size+50):\n",
    "        k_values[k] = k\n",
    "        cum_Pk[k] = len([i for i in weights if i >= k]) / len(weights)\n",
    "    \n",
    "    plt.xlabel(\"Contact Size (Units: Interactions)\")\n",
    "    plt.ylabel(\"Cumulative Probability\")\n",
    "    plt.title(\"Figure 4 - Cumulative Distribution of Contacts time\")\n",
    "    data_points, = plt.plot(k_values, cum_Pk, 'bo', label='Data Points')\n",
    "    powerLaw, = plt.plot([x**-0.667 for x in k_values if x != 0.0], 'k', label='Pk ≈ k^-γ')\n",
    "    plt.legend(handles=[data_points, powerLaw])\n",
    "    \n",
    "    plt.show()\n",
    "\n",
    "def plotSizeOfContactsLogScale(network):\n",
    "    weights = []\n",
    "    for (u,v,w) in network.edges(data='weight'):\n",
    "        weights.append(w)\n",
    "    \n",
    "    max_size = max(weights)\n",
    "    Pk = [0]*(max_size+10) # + 10 so we can see the limit going to zero.\n",
    "    k_values = [0]*(max_size+10)\n",
    "    for k in range(0, max_size+10):\n",
    "        k_values[k] = k\n",
    "        Pk[k] = len([i for i in weights if i == k]) / len(weights)\n",
    "    \n",
    "    plt.yscale('log')\n",
    "    plt.xscale('log')\n",
    "    plt.xlabel(\"Contact Size (Units: Interactions)\")\n",
    "    plt.ylabel(\"Probability\")\n",
    "    plt.title(\"Figure 5 - Degree Probability\")\n",
    "    plt.plot(k_values, Pk, 'bo')\n",
    "    plt.show()\n",
    "\n",
    "plotDegreeHistogram(network=network) # figure 1\n",
    "plotCumulativeDist(network=network) # figure 2\n",
    "#plotDegreeProbability(network=network) #NOT WHATS IS EXPECTED.... Power Law? # figure 3\n",
    "plotSizeOfContactsCumDist(network=network) # figure 4\n",
    "plotSizeOfContactsLogScale(network=network) # figure 5\n",
    "\n",
    "degree = nx.degree(network)\n",
    "degree_values = list(map(lambda x: x[1], degree))\n",
    "average_degree = sum(degree_values)/len(degree_values)\n",
    "print (average_degree)\n",
    "\n",
    "degree = nx.degree(network, weight=\"weight\")\n",
    "degree_values = list(map(lambda x: x[1], degree))\n",
    "average_weighted_degree = sum(degree_values)/len(degree_values)\n",
    "print (average_weighted_degree )"
   ]
  },
  {
   "cell_type": "markdown",
   "metadata": {},
   "source": [
    "####  Average Degree  =  299.850\n",
    "#### Average Weighted Degree = 5424.735\n",
    "\n",
    "Ignoring the weight of a contact we can see by figure 1 that there is a great number of people with 300/350 contacts per day.\n",
    "\n",
    "Figure 2 gives us an idea of the how likely is for a person to have more than k contacts per day. We can see having a small number of contacts is unlikely but having more than 340 contacts is very unlikely too.\n",
    "\n",
    "##### but are all contacts equal? What is the distribution of the size of a contact?\n",
    "\n",
    "In order to see the distribution of the size of a contact we need to look to the weights that represent the sum of all interactions between 2 persons.\n",
    "\n",
    "figure 4 show us a very interesting thing... The relation between the size of a contact and his probability is a power law! which means that as the size of the contact increases the more rare it becames.\n",
    "\n",
    "The γ in this power law is ≈ 0.667. γ value is typically in the range 2 < γ < 3 for a scale free network\n"
   ]
  },
  {
   "cell_type": "markdown",
   "metadata": {},
   "source": [
    "### Average Path Length (APL):\n",
    "In order to compute this we had to remove node 548 because it was disconnected. Maybe that student was missing in that day.\n",
    "\n",
    "#### Average Path Lenght is 1.6219 considering no weights.\n",
    "\n",
    "#### Average Path Lenght is 1.8700 considering weights.  \n",
    "\n",
    "The result without weights means that in average the distance between 2 pair is 1.6219, (in portuguese) em media uma pessoa não tem contacto com todas as outras pessoas, mas para todas aquelas com quem não teve contacto existe alguem (das que teve contacto) que teve contacto com essa pessoa (com quem não teve contacto).\n",
    "(contact with ≈ 3/4 of the the total school population)\n",
    "\n",
    "If we consider weights we are not looking for contacts but we are looking for Interactions which gives a clue of the size of the contacts too.\n",
    "In average a person the distance between 2 pairs is 1.8700 Interactions. The fact that this number is higher than the one presented before is because the there is a lot of small contacts (> 3 Interactions for example). These metric not only measures the distance between 2 pair it will also multiply that distance by the weight (duration) of the links in the path between the pair.\n",
    "\n",
    "APL shows that the network presents a small-world property. "
   ]
  },
  {
   "cell_type": "code",
   "execution_count": 5,
   "metadata": {
    "collapsed": true
   },
   "outputs": [],
   "source": [
    "# this takes a while...\n",
    "# Running this 2 times will generate an error.\n",
    "#network.remove_node(548) # should we remove this node? its not connected with any other.... it's a student...\n",
    "    \n",
    "#apl_not_weighted = nx.average_shortest_path_length(network)\n",
    "#apl_weighted = nx.average_shortest_path_length(network, weight=\"weight\")\n",
    "\n",
    "#apl_weighted = 1.8700778513793304 but actually there is A LOT of edges with weight = 1"
   ]
  },
  {
   "cell_type": "markdown",
   "metadata": {
    "collapsed": true
   },
   "source": [
    "### Clustering Coefficient:\n",
    "\"People tend to have friends who are also friends with each other\"\n",
    "\n",
    "#### Average CC without considering weights: 0.4988\n",
    "#### Average CC considering weights: 0.0056"
   ]
  },
  {
   "cell_type": "code",
   "execution_count": 6,
   "metadata": {
    "collapsed": true
   },
   "outputs": [],
   "source": [
    "# this computatio takes a while\n",
    "\n",
    "cc_not_weighted = nx.clustering(network)\n",
    "cc_weighted = nx.clustering(network, weight='weight')\n",
    "average_cc = sum(cc_not_weighted.values())/ len(cc_not_weighted.values())\n",
    "average_cc_wighted = sum(cc_weighted.values())/ len(cc_weighted.values())\n"
   ]
  },
  {
   "cell_type": "markdown",
   "metadata": {
    "collapsed": true
   },
   "source": [
    "### 3. Node characteristics Analisys:\n",
    "\n",
    "There is many metric to characterize a node.\n",
    "In this section we explore some of them.\n",
    "\n",
    "### Degree Centrality:\n",
    "\"how popular is a node?\""
   ]
  },
  {
   "cell_type": "code",
   "execution_count": 7,
   "metadata": {},
   "outputs": [
    {
     "name": "stdout",
     "output_type": "stream",
     "text": [
      "Max degree centrality: 0.6688, Id and Role: (172, 'student')\n",
      "Min degree centrality: 0.0000, Id and Role: (549, 'student')\n"
     ]
    }
   ],
   "source": [
    "degree_centrality  = nx.degree_centrality(network)\n",
    "\n",
    "\n",
    "max_centrality = max(degree_centrality.values())\n",
    "min_centrality = min(degree_centrality.values())\n",
    "\n",
    "max_id = 0# we want to know who is the most popular and whats the role associated.\n",
    "min_id = 0\n",
    "count=0\n",
    "for key, value in degree_centrality.items():\n",
    "    if value == max_centrality:\n",
    "        max_id = key\n",
    "    if value == min_centrality:\n",
    "        min_id = key\n",
    "        \n",
    "max_centrality_role = load_nodes()[max_id]\n",
    "min_centrality_role = load_nodes()[min_id]\n",
    "print(\"Max degree centrality: %0.4f, Id and Role: %s\" % (max_centrality, max_centrality_role))\n",
    "print(\"Min degree centrality: %0.4f, Id and Role: %s\" % (min_centrality, min_centrality_role))"
   ]
  },
  {
   "cell_type": "code",
   "execution_count": null,
   "metadata": {},
   "outputs": [],
   "source": [
    "import operator\n",
    "import time\n",
    "\n",
    "start_time = time.time()\n",
    "print(\"Start time = \", start_time)\n",
    "clustering_coefficients = nx.clustering(network, weight = 'weight')\n",
    "average_clustering_coefficient = nx.average_clustering(network, weight = 'weight')\n",
    "\n",
    "min_node, min_clustering_coefficient = min(enumerate(clustering_coefficients.values()), key = operator.itemgetter(1))\n",
    "max_node, max_clustering_coefficient = max(enumerate(clustering_coefficients.values()), key = operator.itemgetter(1))\n",
    "\n",
    "run_time = time.time() - start_time\n",
    "print(\"Total runtime=\", run_time)\n",
    "print(\"Average clustering coefficient: \", average_clustering_coefficient)\n",
    "print(\"Node with lowest clustering coefficient: \", min_node, \"(\",min_clustering_coefficient,\")\")\n",
    "print(\"Node with highest clustering coefficient: \", max_node, \"(\",max_clustering_coefficient,\")\")"
   ]
  },
  {
   "cell_type": "markdown",
   "metadata": {},
   "source": [
    "### Eigenvector Centrality:\n",
    "\"my friends are better than yours\""
   ]
  },
  {
   "cell_type": "code",
   "execution_count": 9,
   "metadata": {
    "collapsed": false
   },
   "outputs": [],
   "source": [
    "#not implemen"
   ]
  },
  {
   "cell_type": "code",
   "execution_count": null,
   "metadata": {
    "collapsed": true
   },
   "outputs": [],
   "source": []
  }
 ],
 "metadata": {
  "celltoolbar": "Raw Cell Format",
  "kernelspec": {
   "display_name": "Python 3",
   "language": "python",
   "name": "python3"
  },
  "language_info": {
   "codemirror_mode": {
    "name": "ipython",
    "version": 3
   },
   "file_extension": ".py",
   "mimetype": "text/x-python",
   "name": "python",
   "nbconvert_exporter": "python",
   "pygments_lexer": "ipython3",
   "version": "3.6.3"
  }
 },
 "nbformat": 4,
 "nbformat_minor": 1
}
