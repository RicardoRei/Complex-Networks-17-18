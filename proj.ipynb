{
 "cells": [
  {
   "cell_type": "markdown",
   "metadata": {},
   "source": [
    "# Complex Networks"
   ]
  },
  {
   "cell_type": "markdown",
   "metadata": {},
   "source": [
    "## Infectious Disease Spreading\n",
    "\n",
    "In this project we choosed a real-world dataset about disease spreading and analyze it.\n",
    "The dataset can be found in http://sing.stanford.edu/flu/"
   ]
  },
  {
   "cell_type": "markdown",
   "metadata": {},
   "source": [
    "# The Dataset\n",
    "\n",
    "### What is the dataset?\n",
    "\t\n",
    "    The dataset is high-resolution temporal contact network related to the spread of infectious diseases via droplet \n",
    "    transmission.\n",
    "    It represents the recording of single day of individual contacts in an American highschool.\n",
    "\n",
    "### What is the network?\n",
    "\t\n",
    "\tThe aggregate network for the entire day can be represented by a weighted undirected network.\n",
    "\n",
    "\t> Nodes (N) represent individuals wearing mote sensors.\n",
    "\t> Edges (E) represent contacts between the individuals. The edge weight represents the duration of the contact (in minutes)\n",
    "\n",
    "\tN = 788  (655 students, 73 teachers, 55 staff, and 5 other persons)\n",
    "\tE = 762,868 (total number of contacts, 94% coverage)\n",
    "\n",
    "\n",
    "### How was the data collected?\n",
    "\t\n",
    "    The data was collected using a wireless sensor network (TelosB motes) that detected when two people were within \n",
    "    range of one another.\n",
    "\tA contact was recorded if the distance between two individuals was less than or equal to 3 meters.\n",
    "    The duration of the contact was also recorded.\n",
    "\tThere was 94% coverage of the total school population's contacts."
   ]
  },
  {
   "cell_type": "markdown",
   "metadata": {},
   "source": [
    "### 1. Data Set Integration\n",
    "\n",
    "We start by loading the dataset and transform it into a graph with networkx (https://networkx.github.io/documentation/stable/index.html).\n",
    "\n",
    "In order to transform the dataset into a graph its important to understand what's inside it.\n",
    "\n",
    "The population is composed by an entire school, representing 655 students, 73 teachers, 55 staff, and 5 other persons.\n",
    "It contains 2,148,991 unique close proximity records (CPRs). A CPR represents one close (maximum of 3 m) proximity detection event between two motes. Thus, a contact exists between two motes if there is at least one interaction between them during the day, and the duration of the contact is the total duration of all interactions between these two motes. Because the beaconing frequency of a mote is 0.05 s−1, an interaction of length 3 (in CPRs) corresponds to an interaction of about 1 min (SI Text and references therein). The entire dataset consists of 762,868 interactions with a mean duration of 2.8 CPRs (∼1 min), or 118,291 contacts with mean duration of 18.1 CPRs (∼6 min).\n",
    "\n",
    "The aggregate network for the entire day can be represented by a weighted undirected graph, wherein nodes represent indi- viduals and edges represent contacts (edges are weighted by contact duration).\n",
    "\n",
    "### Inports and Folder Information"
   ]
  },
  {
   "cell_type": "code",
   "execution_count": 8,
   "metadata": {
    "scrolled": false
   },
   "outputs": [
    {
     "name": "stdout",
     "output_type": "stream",
     "text": [
      "['moteFiles', 'edgeLists', 'README.txt', 'roles.txt']\n"
     ]
    }
   ],
   "source": [
    "import os\n",
    "import networkx as nx\n",
    "\n",
    "dataset_root_path = \"flu-data\" # corpora\n",
    "parameters_path = '/dropoff=0/minimumDuration=1/deltaT=1620/staticWeightedEdgeList_at=1350_min=540_max=2159.txt'\n",
    "addThenChop_path = dataset_root_path + '/edgeLists/durationCondition/' + 'addThenChop' + parameters_path\n",
    "chopThenAdd_path = dataset_root_path + '/edgeLists/durationCondition/' + 'chopThenAdd' + parameters_path\n",
    "chopThenCount_path = dataset_root_path + '/edgeLists/durationCondition/' + 'chopThenCount' + parameters_path\n",
    "justChop_path = dataset_root_path + '/edgeLists/durationCondition/' + 'justChop' + parameters_path\n",
    "\n",
    "print(os.listdir(dataset_root_path)) # files that contain the dataset info"
   ]
  },
  {
   "cell_type": "code",
   "execution_count": 19,
   "metadata": {
    "scrolled": false
   },
   "outputs": [],
   "source": [
    "\"\"\"\n",
    "    Loads the nodes for the network\n",
    "    Returns the sorted list of nodes\n",
    "\"\"\"\n",
    "def load_nodes():\n",
    "    \n",
    "    roles_file = open(dataset_root_path + \"/roles.txt\", 'r')\n",
    "    roles = []\n",
    "    \n",
    "    for line in roles_file:\n",
    "        id = int(line.split()[0])\n",
    "        role = line.split()[1]\n",
    "        roles.append((id, role))\n",
    "\n",
    "    # TODO - Check why the hell the first 12 individuals have the same ID.\n",
    "    # For now we eliminate the first 12 entries and get 789 roles shouldn't be 788 ?(655 + 73 + 55 + 5)\n",
    "   \n",
    "    roles = sorted(roles, key=lambda id: id)[12:] \n",
    "    return roles\n",
    "\n",
    "\"\"\"\n",
    "    Loads the edges\n",
    "    Returns the list of edges\n",
    "\"\"\"\n",
    "def load_edges(contact_strategy_path):\n",
    "    \n",
    "    strategy_file = open(contact_strategy_path , 'r')\n",
    "    \n",
    "    edges = [] #starting with addThenChop strategy to define the edges.\n",
    "    \n",
    "    for line in strategy_file:\n",
    "        id1 = int(line.split()[0])\n",
    "        id2 = int(line.split()[1])\n",
    "        weight = int(line.split()[2])\n",
    "        edge = (id1, id2, weight)\n",
    "        \n",
    "        edges.append(edge)\n",
    "    \n",
    "    return edges\n",
    "\n",
    "\"\"\"\n",
    "    Returns the NetworkX network structure loaded with the nodes and edges\n",
    "    Parameter contact_strategy_path - \"contact strategy\" folder specified (Default = addThenChop)\n",
    "\"\"\"\n",
    "def load_network(contact_strategy_path = addThenChop_path):\n",
    "    \n",
    "    network = nx.Graph()\n",
    "    \n",
    "    nodes = load_nodes()\n",
    "    edges = load_edges(contact_strategy_path)\n",
    "    \n",
    "    N = len(nodes)\n",
    "    E = len(edges)\n",
    "    \n",
    "    for i in range(1, N + 1):\n",
    "        network.add_node(i)\n",
    "        \n",
    "    network.add_weighted_edges_from(edges)\n",
    "    \n",
    "    return network\n",
    "\n",
    "network = load_network()"
   ]
  },
  {
   "cell_type": "markdown",
   "metadata": {
    "collapsed": true
   },
   "source": [
    "### 2. Network characteristics Analisys:\n",
    "\n",
    "There is many metric to characterize a network.\n",
    "In this section we explore some of them.\n",
    "\n",
    "### Degree distribution:\n"
   ]
  },
  {
   "cell_type": "code",
   "execution_count": 21,
   "metadata": {},
   "outputs": [
    {
     "data": {
      "image/png": "[encoded data removed]",
      "text/plain": [
       "<matplotlib.figure.Figure at 0x7f144fc8af60>"
      ]
     },
     "metadata": {},
     "output_type": "display_data"
    },
    {
     "ename": "AttributeError",
     "evalue": "'DegreeView' object has no attribute 'values'",
     "output_type": "error",
     "traceback": [
      "\u001b[0;31m---------------------------------------------------------------------------\u001b[0m",
      "\u001b[0;31mAttributeError\u001b[0m                            Traceback (most recent call last)",
      "\u001b[0;32m<ipython-input-21-702caf15873b>\u001b[0m in \u001b[0;36m<module>\u001b[0;34m()\u001b[0m\n\u001b[1;32m     38\u001b[0m \u001b[0;34m\u001b[0m\u001b[0m\n\u001b[1;32m     39\u001b[0m \u001b[0;34m\u001b[0m\u001b[0m\n\u001b[0;32m---> 40\u001b[0;31m \u001b[0mplotCumulativeDist\u001b[0m\u001b[0;34m(\u001b[0m\u001b[0mnetwork\u001b[0m\u001b[0;34m)\u001b[0m\u001b[0;34m\u001b[0m\u001b[0m\n\u001b[0m\u001b[1;32m     41\u001b[0m \u001b[0;34m\u001b[0m\u001b[0m\n\u001b[1;32m     42\u001b[0m \u001b[0;34m\u001b[0m\u001b[0m\n",
      "\u001b[0;32m<ipython-input-21-702caf15873b>\u001b[0m in \u001b[0;36mplotCumulativeDist\u001b[0;34m(network)\u001b[0m\n\u001b[1;32m     23\u001b[0m \u001b[0;32mdef\u001b[0m \u001b[0mplotCumulativeDist\u001b[0m\u001b[0;34m(\u001b[0m\u001b[0mnetwork\u001b[0m\u001b[0;34m)\u001b[0m\u001b[0;34m:\u001b[0m\u001b[0;34m\u001b[0m\u001b[0m\n\u001b[1;32m     24\u001b[0m     \u001b[0mdegree\u001b[0m \u001b[0;34m=\u001b[0m \u001b[0mnx\u001b[0m\u001b[0;34m.\u001b[0m\u001b[0mdegree\u001b[0m\u001b[0;34m(\u001b[0m\u001b[0mnetwork\u001b[0m\u001b[0;34m)\u001b[0m\u001b[0;34m\u001b[0m\u001b[0m\n\u001b[0;32m---> 25\u001b[0;31m     \u001b[0mmax_degree\u001b[0m \u001b[0;34m=\u001b[0m \u001b[0mmax\u001b[0m\u001b[0;34m(\u001b[0m\u001b[0mdegree\u001b[0m\u001b[0;34m.\u001b[0m\u001b[0mvalues\u001b[0m\u001b[0;34m(\u001b[0m\u001b[0;34m)\u001b[0m\u001b[0;34m)\u001b[0m\u001b[0;34m\u001b[0m\u001b[0m\n\u001b[0m\u001b[1;32m     26\u001b[0m \u001b[0;34m\u001b[0m\u001b[0m\n\u001b[1;32m     27\u001b[0m     \u001b[0mcum_Pk\u001b[0m \u001b[0;34m=\u001b[0m \u001b[0;34m[\u001b[0m\u001b[0;36m0\u001b[0m\u001b[0;34m]\u001b[0m\u001b[0;34m*\u001b[0m\u001b[0;34m(\u001b[0m\u001b[0mmax_degree\u001b[0m\u001b[0;34m+\u001b[0m\u001b[0;36m50\u001b[0m\u001b[0;34m)\u001b[0m \u001b[0;31m# + 50 so we can see the limit going to zero.\u001b[0m\u001b[0;34m\u001b[0m\u001b[0m\n",
      "\u001b[0;31mAttributeError\u001b[0m: 'DegreeView' object has no attribute 'values'"
     ]
    }
   ],
   "source": [
    "import numpy as np\n",
    "import matplotlib.pyplot as plt\n",
    "\n",
    "\n",
    "\"\"\"\n",
    "    This Function receives the network graph and plots the degree histogram. \n",
    "\"\"\"\n",
    "def plotDegreeHistogram(network):\n",
    "    degree = nx.degree(network)\n",
    "    values = map(lambda x: x[1], degree)\n",
    "    plt.hist(list(values))\n",
    "    plt.xlabel(\"Degree\")\n",
    "    plt.ylabel(\"Nodes\")\n",
    "    plt.title(\"Figure 1 -Degree distribution\")\n",
    "    plt.show()\n",
    "\n",
    "plotDegreeHistogram(network=network)\n",
    "\n",
    "\"\"\"\n",
    "    This Function receives the network graph and plots the cumulative degree distribution.\n",
    "    The Cumulative degree distribution cum_Pk represents the fraction of nodes with degree higher than k.\n",
    "\"\"\"\n",
    "def plotCumulativeDist(network):\n",
    "    degree = nx.degree(network)\n",
    "    max_degree = max(degree.values())\n",
    "    \n",
    "    cum_Pk = [0]*(max_degree+50) # + 50 so we can see the limit going to zero.\n",
    "    k_values = [0]*(max_degree+50)\n",
    "    for k in range(0, max_degree+50):\n",
    "        k_values[k] = k\n",
    "        cum_Pk[k] = len([i for i in list(map(lambda x: x[1], degree)) if i >= k]) / len(network.nodes())\n",
    "    \n",
    "    plt.xlabel(\"Cumulative Degree Distribution\")\n",
    "    plt.ylabel(\"Degree\")\n",
    "    plt.title(\"Figure 2 - Cumulative Degree distribution\")\n",
    "    plt.plot(k_values, cum_Pk)\n",
    "    plt.show()\n",
    "    \n",
    "            \n",
    "plotCumulativeDist(network)\n",
    "\n",
    "\n",
    "\"\"\"\n",
    "    This Function receives the network graph and plots the degree probability Pk.\n",
    "    The degree probability Pk represents the probability of a node has a degree  equal to k.\n",
    "\"\"\"\n",
    "def plotDegreeProbability(network):\n",
    "    degree = nx.degree(network)\n",
    "    max_degree = max(degree.values())\n",
    "    \n",
    "    Pk = [0]*(max_degree+10) # + 10 so we can see the limit going to zero.\n",
    "    k_values = [0]*(max_degree+10)\n",
    "    for k in range(0, max_degree+10):\n",
    "        k_values[k] = k\n",
    "        Pk[k] = len([i for i in list(map(lambda x: x[1], degree)) if i == k]) / len(network.nodes())\n",
    "    \n",
    "    plt.xlabel(\"Degree\")\n",
    "    plt.ylabel(\"Degree probability\")\n",
    "    plt.title(\"Figure 3 - Degree Probability\")\n",
    "    plt.plot(k_values, Pk, 'bo')\n",
    "    plt.show()\n",
    "\n",
    "plotDegreeProbability(network) #NOT WHATS IS EXPECTED.... Power Law?\n",
    "degree = nx.degree(network)\n",
    "average_degree = sum(degree.values())/len(degree.values())\n",
    "print (average_degree)"
   ]
  },
  {
   "cell_type": "markdown",
   "metadata": {},
   "source": [
    "Looking to the figure 1 the degree distribution of the contact network shows that there is a big number of nodes with ≈ 280 to ≈ 420 neightbors and a low density of nodes with more links.\n",
    "\n",
    "#### The average Degree  =  299.850\n",
    "\n",
    "Big Hubs are super rare and low degree nodes are also rare."
   ]
  },
  {
   "cell_type": "markdown",
   "metadata": {},
   "source": [
    "### Average Path Length (APL):\n",
    "In order to compute this we had to remove node 548 because it was disconnected. Maybe that student was missing in that day.\n",
    "\n",
    "Average Path Lenght is 1.6219 considering no weights.\n",
    "\n",
    "Average Path Lenght is 1.8700 considering weights.  \n"
   ]
  },
  {
   "cell_type": "code",
   "execution_count": null,
   "metadata": {},
   "outputs": [],
   "source": [
    "# this takes a while...\n",
    "# Running this 2 times will generate an error.\n",
    "#network.remove_node(548) # should we remove this node? its not connected with any other.... it's a student...\n",
    "    \n",
    "#apl_not_weighted = nx.average_shortest_path_length(network)\n",
    "#apl_weighted = nx.average_shortest_path_length(network, weight=\"weight\")\n",
    "\n",
    "#apl_weighted = 1.8700778513793304 but actually there is A LOT of edges with weight = 1"
   ]
  },
  {
   "cell_type": "markdown",
   "metadata": {
    "collapsed": true
   },
   "source": [
    "### Clustering Coefficient:\n",
    "\"People tend to have friends who are also friends with each other\"\n",
    "\n",
    "#### Average CC without considering weights: 0.4988\n",
    "#### Average CC considering weights: 0.0056"
   ]
  },
  {
   "cell_type": "code",
   "execution_count": null,
   "metadata": {},
   "outputs": [],
   "source": [
    "# this computatio takes a while\n",
    "\n",
    "cc_not_weighted = nx.clustering(network)\n",
    "cc_weighted = nx.clustering(network, weight='weight')\n",
    "average_cc = sum(cc_not_weighted.values())/ len(cc_not_weighted.values())\n",
    "average_cc_wighted = sum(cc_weighted.values())/ len(cc_weighted.values())\n"
   ]
  },
  {
   "cell_type": "markdown",
   "metadata": {
    "collapsed": true
   },
   "source": [
    "### 3. Node characteristics Analisys:\n",
    "\n",
    "There is many metric to characterize a node.\n",
    "In this section we explore some of them.\n",
    "\n",
    "### Degree Centrality:\n",
    "\"how popular is a node?\""
   ]
  },
  {
   "cell_type": "code",
   "execution_count": 12,
   "metadata": {},
   "outputs": [
    {
     "name": "stdout",
     "output_type": "stream",
     "text": [
      "Max degree centrality: 0.6688, Id and Role: (172, 'student')\n",
      "Min degree centrality: 0.0000, Id and Role: (549, 'student')\n"
     ]
    }
   ],
   "source": [
    "degree_centrality  = nx.degree_centrality(network)\n",
    "\n",
    "\n",
    "max_centrality = max(degree_centrality.values())\n",
    "min_centrality = min(degree_centrality.values())\n",
    "\n",
    "max_id = 0# we want to know who is the most popular and whats the role associated.\n",
    "min_id = 0\n",
    "count=0\n",
    "for key, value in degree_centrality.items():\n",
    "    if value == max_centrality:\n",
    "        max_id = key\n",
    "    if value == min_centrality:\n",
    "        min_id = key\n",
    "        \n",
    "max_centrality_role = load_nodes()[max_id]\n",
    "min_centrality_role = load_nodes()[min_id]\n",
    "print(\"Max degree centrality: %0.4f, Id and Role: %s\" % (max_centrality, max_centrality_role))\n",
    "print(\"Min degree centrality: %0.4f, Id and Role: %s\" % (min_centrality, min_centrality_role))"
   ]
  },
  {
   "cell_type": "markdown",
   "metadata": {},
   "source": [
    "### Eigenvector Centrality:\n",
    "\"my friends are better than yours\""
   ]
  },
  {
   "cell_type": "code",
   "execution_count": null,
   "metadata": {
    "collapsed": true
   },
   "outputs": [],
   "source": [
    "#not implemen"
   ]
  }
 ],
 "metadata": {
  "celltoolbar": "Raw Cell Format",
  "kernelspec": {
   "display_name": "Python 3",
   "language": "python",
   "name": "python3"
  },
  "language_info": {
   "codemirror_mode": {
    "name": "ipython",
    "version": 3
   },
   "file_extension": ".py",
   "mimetype": "text/x-python",
   "name": "python",
   "nbconvert_exporter": "python",
   "pygments_lexer": "ipython3",
   "version": "3.6.3"
  }
 },
 "nbformat": 4,
 "nbformat_minor": 1
}
